{
 "cells": [
  {
   "attachments": {},
   "cell_type": "markdown",
   "metadata": {},
   "source": [
    "Input"
   ]
  },
  {
   "cell_type": "code",
   "execution_count": 1,
   "metadata": {},
   "outputs": [],
   "source": [
    "from pathlib import Path \n",
    "sample = Path('sample').read_text()\n",
    "input = Path('input').read_text()"
   ]
  },
  {
   "attachments": {},
   "cell_type": "markdown",
   "metadata": {},
   "source": [
    "Parsing"
   ]
  },
  {
   "cell_type": "code",
   "execution_count": 37,
   "metadata": {},
   "outputs": [
    {
     "data": {
      "text/plain": [
       "[([79, 98], 'old * 19', 23, 2, 3),\n",
       " ([54, 65, 75, 74], 'old + 6', 19, 2, 0),\n",
       " ([79, 60, 97], 'old * old', 13, 1, 3),\n",
       " ([74], 'old + 3', 17, 0, 1)]"
      ]
     },
     "execution_count": 37,
     "metadata": {},
     "output_type": "execute_result"
    }
   ],
   "source": [
    "import re\n",
    "rx = re.compile(r\"Monkey \\d+:\\n\\s*Starting items: (.*)\\n\\s*Operation: new = (.*)\\n\\s*Test: divisible by (\\d+)\\n\\s*If true: throw to monkey (\\d+)\\n\\s*If false: throw to monkey (\\d+)\")\n",
    "\n",
    "def parse(input):\n",
    "  result = []\n",
    "  for (items, operation, modulo, iftrue, iffalse) in rx.findall(input):\n",
    "    items = [int(item) for item in items.split(', ')]\n",
    "    result.append((items, operation, int(modulo), int(iftrue), int(iffalse)))\n",
    "  return result\n",
    "\n",
    "parse(sample)"
   ]
  },
  {
   "attachments": {},
   "cell_type": "markdown",
   "metadata": {},
   "source": [
    "Solution"
   ]
  },
  {
   "cell_type": "code",
   "execution_count": 118,
   "metadata": {},
   "outputs": [
    {
     "data": {
      "text/plain": [
       "57838"
      ]
     },
     "execution_count": 118,
     "metadata": {},
     "output_type": "execute_result"
    }
   ],
   "source": [
    "def solve(input):\n",
    "  monkeys = parse(input)\n",
    "  result = [0 for _ in range(len(monkeys))]\n",
    "\n",
    "  for _ in range(20):\n",
    "    for i in range(len(monkeys)):\n",
    "      monkey = monkeys[i]\n",
    "\n",
    "      while len(monkey[0]) > 0:\n",
    "        result[i] += 1\n",
    "        old = monkey[0].pop(0)\n",
    "        new = eval(monkey[1])\n",
    "        new //= 3\n",
    "\n",
    "        if new % monkey[2] == 0:\n",
    "          monkeys[monkey[3]][0].append(new)\n",
    "        else:\n",
    "          monkeys[monkey[4]][0].append(new)\n",
    "\n",
    "  result.sort()\n",
    "  return result[-1] * result[-2]\n",
    "\n",
    "assert solve(sample) == 10605\n",
    "solve(input)"
   ]
  },
  {
   "cell_type": "code",
   "execution_count": 117,
   "metadata": {},
   "outputs": [
    {
     "data": {
      "text/plain": [
       "15050382231"
      ]
     },
     "execution_count": 117,
     "metadata": {},
     "output_type": "execute_result"
    }
   ],
   "source": [
    "def solve(input):\n",
    "  monkeys = parse(input)\n",
    "  monkeys = [([(item,) * len(monkeys) for item in items], operation, modulo, iftrue, iffalse) for (items, operation, modulo, iftrue, iffalse) in monkeys]\n",
    "  result = [0 for _ in range(len(monkeys))]\n",
    "\n",
    "  for _ in range(10000):\n",
    "    for i in range(len(monkeys)):\n",
    "      monkey = monkeys[i]\n",
    "\n",
    "      while len(monkey[0]) > 0:\n",
    "        result[i] += 1\n",
    "        olds = monkey[0].pop(0)\n",
    "        news = [eval(monkey[1]) for old in olds]\n",
    "\n",
    "        for j in range(len(news)):\n",
    "          news[j] = news[j] % monkeys[j][2]\n",
    "\n",
    "        if news[i] == 0:\n",
    "          monkeys[monkey[3]][0].append(news)\n",
    "        else:\n",
    "          monkeys[monkey[4]][0].append(news)\n",
    "\n",
    "  result.sort()\n",
    "  return result[-1] * result[-2]\n",
    "\n",
    "assert solve(sample) == 2713310158\n",
    "solve(input)"
   ]
  }
 ],
 "metadata": {
  "kernelspec": {
   "display_name": "Python 3.9.15 ('base')",
   "language": "python",
   "name": "python3"
  },
  "language_info": {
   "codemirror_mode": {
    "name": "ipython",
    "version": 3
   },
   "file_extension": ".py",
   "mimetype": "text/x-python",
   "name": "python",
   "nbconvert_exporter": "python",
   "pygments_lexer": "ipython3",
   "version": "3.9.15"
  },
  "orig_nbformat": 4,
  "vscode": {
   "interpreter": {
    "hash": "d4d1e4263499bec80672ea0156c357c1ee493ec2b1c70f0acce89fc37c4a6abe"
   }
  }
 },
 "nbformat": 4,
 "nbformat_minor": 2
}
