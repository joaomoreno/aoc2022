{
 "cells": [
  {
   "attachments": {},
   "cell_type": "markdown",
   "metadata": {},
   "source": [
    "Input"
   ]
  },
  {
   "cell_type": "code",
   "execution_count": 36,
   "metadata": {},
   "outputs": [],
   "source": [
    "from pathlib import Path \n",
    "sample = Path('sample').read_text()\n",
    "input = Path('input').read_text()"
   ]
  },
  {
   "attachments": {},
   "cell_type": "markdown",
   "metadata": {},
   "source": [
    "Parsing"
   ]
  },
  {
   "cell_type": "code",
   "execution_count": 37,
   "metadata": {},
   "outputs": [
    {
     "data": {
      "text/plain": [
       "[(2, 18, -2, 15),\n",
       " (9, 16, 10, 16),\n",
       " (13, 2, 15, 3),\n",
       " (12, 14, 10, 16),\n",
       " (10, 20, 10, 16),\n",
       " (14, 17, 10, 16),\n",
       " (8, 7, 2, 10),\n",
       " (2, 0, 2, 10),\n",
       " (0, 11, 2, 10),\n",
       " (20, 14, 25, 17),\n",
       " (17, 20, 21, 22),\n",
       " (16, 7, 15, 3),\n",
       " (14, 3, 15, 3),\n",
       " (20, 1, 15, 3)]"
      ]
     },
     "execution_count": 37,
     "metadata": {},
     "output_type": "execute_result"
    }
   ],
   "source": [
    "import re\n",
    "rx = re.compile(r\"Sensor at x=(-?\\d+), y=(-?\\d+): closest beacon is at x=(-?\\d+), y=(-?\\d+)\")\n",
    "\n",
    "def parse(input):\n",
    "  return [tuple(map(int, rx.match(line).groups())) for line in input.splitlines(False)]\n",
    "\n",
    "parse(sample)"
   ]
  },
  {
   "attachments": {},
   "cell_type": "markdown",
   "metadata": {},
   "source": [
    "Solution"
   ]
  },
  {
   "cell_type": "code",
   "execution_count": 38,
   "metadata": {},
   "outputs": [
    {
     "data": {
      "text/plain": [
       "5335787"
      ]
     },
     "execution_count": 38,
     "metadata": {},
     "output_type": "execute_result"
    }
   ],
   "source": [
    "def dist(x1, y1, x2, y2):\n",
    "  return abs(x1 - x2) + abs(y1 - y2)\n",
    "\n",
    "def intersect_line_and_circle(y, sx, sy, r):\n",
    "  d = r - abs(y - sy)\n",
    "  return None if d < 0 else (sx - d, sx + d)\n",
    "\n",
    "def intersect_ranges(a, b):\n",
    "  first = max(a[0], b[0])\n",
    "  second = min(a[1] + 1, b[1] + 1)\n",
    "  return (first, second) if first <= second else None\n",
    "\n",
    "def union_ranges(a, b):\n",
    "  if not intersect_ranges(a, b):\n",
    "    return None\n",
    "  first = min(a[0], b[0])\n",
    "  second = max(a[1], b[1])\n",
    "  return (first, second)\n",
    "\n",
    "def union_sorted_ranges(ranges):\n",
    "  result = [ranges[0]]\n",
    "  for r in ranges[1:]:\n",
    "    if intersect := union_ranges(result[-1], r):\n",
    "      result[-1] = intersect\n",
    "    else:\n",
    "      result.append(r)\n",
    "  return result\n",
    "\n",
    "def solve(input, y):\n",
    "  scans = parse(input)\n",
    "  rs = [dist(sx, sy, bx, by) for sx, sy, bx, by in scans]\n",
    "\n",
    "  ranges = [intersect_line_and_circle(y, sx, sy, r) for (sx, sy, bx, by), r in zip(scans, rs)]\n",
    "  ranges = [r for r in ranges if r]\n",
    "  ranges = sorted(ranges, key=lambda r: r[0])\n",
    "  ranges = union_sorted_ranges(ranges)\n",
    "  result = sum(r[1] - r[0] + 1 for r in ranges)\n",
    "\n",
    "  beacons = len(set((bx, by) for sx, sy, bx, by in scans if by == y))\n",
    "  result -= beacons\n",
    "  \n",
    "  return result\n",
    "\n",
    "assert solve(sample, 10) == 26\n",
    "solve(input, 2000000)"
   ]
  },
  {
   "cell_type": "code",
   "execution_count": 39,
   "metadata": {},
   "outputs": [
    {
     "data": {
      "text/plain": [
       "13673971349056"
      ]
     },
     "execution_count": 39,
     "metadata": {},
     "output_type": "execute_result"
    }
   ],
   "source": [
    "def crop_range(inner, outer):\n",
    "  return (max(inner[0], outer[0]), min(inner[1], outer[1]))\n",
    "\n",
    "def solve(input, m):\n",
    "  scans = parse(input)\n",
    "  rs = [dist(sx, sy, bx, by) for sx, sy, bx, by in scans]\n",
    "\n",
    "  for y in range(m + 1):\n",
    "    ranges = [intersect_line_and_circle(y, sx, sy, r) for (sx, sy, bx, by), r in zip(scans, rs)]\n",
    "    ranges = [r for r in ranges if r]\n",
    "    ranges = sorted(ranges, key=lambda r: r[0])\n",
    "    ranges = union_sorted_ranges(ranges)\n",
    "    ranges = [crop_range(r, (0, m)) for r in ranges]\n",
    "    result = sum(r[1] - r[0] for r in ranges)\n",
    "\n",
    "    if result < m:\n",
    "      x = ranges[0][1] + 1\n",
    "      return x * 4000000 + y\n",
    "\n",
    "assert solve(sample, 20) == 56000011\n",
    "solve(input, 4000000)"
   ]
  }
 ],
 "metadata": {
  "kernelspec": {
   "display_name": "Python 3.9.15 ('base')",
   "language": "python",
   "name": "python3"
  },
  "language_info": {
   "codemirror_mode": {
    "name": "ipython",
    "version": 3
   },
   "file_extension": ".py",
   "mimetype": "text/x-python",
   "name": "python",
   "nbconvert_exporter": "python",
   "pygments_lexer": "ipython3",
   "version": "3.9.15"
  },
  "orig_nbformat": 4,
  "vscode": {
   "interpreter": {
    "hash": "d4d1e4263499bec80672ea0156c357c1ee493ec2b1c70f0acce89fc37c4a6abe"
   }
  }
 },
 "nbformat": 4,
 "nbformat_minor": 2
}
