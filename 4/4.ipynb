{
 "cells": [
  {
   "attachments": {},
   "cell_type": "markdown",
   "metadata": {},
   "source": [
    "Input"
   ]
  },
  {
   "cell_type": "code",
   "execution_count": 5,
   "metadata": {},
   "outputs": [],
   "source": [
    "from pathlib import Path \n",
    "sample = Path('sample').read_text()\n",
    "input = Path('input').read_text()"
   ]
  },
  {
   "attachments": {},
   "cell_type": "markdown",
   "metadata": {},
   "source": [
    "Parsing"
   ]
  },
  {
   "cell_type": "code",
   "execution_count": 6,
   "metadata": {},
   "outputs": [
    {
     "data": {
      "text/plain": [
       "[((2, 4), (6, 8)),\n",
       " ((2, 3), (4, 5)),\n",
       " ((5, 7), (7, 9)),\n",
       " ((2, 8), (3, 7)),\n",
       " ((6, 6), (4, 6)),\n",
       " ((2, 6), (4, 8))]"
      ]
     },
     "execution_count": 6,
     "metadata": {},
     "output_type": "execute_result"
    }
   ],
   "source": [
    "import re\n",
    "rx = re.compile(r'^(\\d+)-(\\d+),(\\d+)-(\\d+)$')\n",
    "\n",
    "def parse(input):\n",
    "  return [((int(a),int(b)),(int(c),int(d))) for (a,b,c,d) in (rx.match(line).groups() for line in input.splitlines(False))]\n",
    "\n",
    "parse(sample)"
   ]
  },
  {
   "attachments": {},
   "cell_type": "markdown",
   "metadata": {},
   "source": [
    "Solution"
   ]
  },
  {
   "cell_type": "code",
   "execution_count": 7,
   "metadata": {},
   "outputs": [
    {
     "data": {
      "text/plain": [
       "573"
      ]
     },
     "execution_count": 7,
     "metadata": {},
     "output_type": "execute_result"
    }
   ],
   "source": [
    "def intersect(a, b):\n",
    "  c = (max(a[0], b[0]), min(a[1], b[1]))\n",
    "  return c if c[0] <= c[1] else None\n",
    "\n",
    "def solve(input):\n",
    "  result = 0\n",
    "  for (a, b) in parse(input):\n",
    "    c = intersect(a, b)\n",
    "    if c:\n",
    "      result += 1 if c == a or c == b else 0\n",
    "  return result\n",
    "\n",
    "assert solve(sample) == 2\n",
    "solve(input)"
   ]
  },
  {
   "cell_type": "code",
   "execution_count": 8,
   "metadata": {},
   "outputs": [
    {
     "data": {
      "text/plain": [
       "867"
      ]
     },
     "execution_count": 8,
     "metadata": {},
     "output_type": "execute_result"
    }
   ],
   "source": [
    "def intersect(a, b):\n",
    "  c = (max(a[0], b[0]), min(a[1], b[1]))\n",
    "  return c if c[0] <= c[1] else None\n",
    "\n",
    "def solve(input):\n",
    "  return sum(1 if intersect(a, b) else 0 for a, b in parse(input))\n",
    "\n",
    "assert solve(sample) == 4\n",
    "solve(input)"
   ]
  }
 ],
 "metadata": {
  "kernelspec": {
   "display_name": "Python 3.9.15 ('base')",
   "language": "python",
   "name": "python3"
  },
  "language_info": {
   "codemirror_mode": {
    "name": "ipython",
    "version": 3
   },
   "file_extension": ".py",
   "mimetype": "text/x-python",
   "name": "python",
   "nbconvert_exporter": "python",
   "pygments_lexer": "ipython3",
   "version": "3.9.15"
  },
  "orig_nbformat": 4,
  "vscode": {
   "interpreter": {
    "hash": "d4d1e4263499bec80672ea0156c357c1ee493ec2b1c70f0acce89fc37c4a6abe"
   }
  }
 },
 "nbformat": 4,
 "nbformat_minor": 2
}
