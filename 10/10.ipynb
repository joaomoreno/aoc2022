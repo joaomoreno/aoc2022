{
 "cells": [
  {
   "attachments": {},
   "cell_type": "markdown",
   "metadata": {},
   "source": [
    "Input"
   ]
  },
  {
   "cell_type": "code",
   "execution_count": 2,
   "metadata": {},
   "outputs": [],
   "source": [
    "from pathlib import Path \n",
    "sample = Path('sample').read_text()\n",
    "input = Path('input').read_text()"
   ]
  },
  {
   "attachments": {},
   "cell_type": "markdown",
   "metadata": {},
   "source": [
    "Parsing"
   ]
  },
  {
   "cell_type": "code",
   "execution_count": 3,
   "metadata": {},
   "outputs": [
    {
     "data": {
      "text/plain": [
       "[('addx', 15),\n",
       " ('addx', -11),\n",
       " ('addx', 6),\n",
       " ('addx', -3),\n",
       " ('addx', 5),\n",
       " ('addx', -1),\n",
       " ('addx', -8),\n",
       " ('addx', 13),\n",
       " ('addx', 4),\n",
       " ('noop', None),\n",
       " ('addx', -1),\n",
       " ('addx', 5),\n",
       " ('addx', -1),\n",
       " ('addx', 5),\n",
       " ('addx', -1),\n",
       " ('addx', 5),\n",
       " ('addx', -1),\n",
       " ('addx', 5),\n",
       " ('addx', -1),\n",
       " ('addx', -35),\n",
       " ('addx', 1),\n",
       " ('addx', 24),\n",
       " ('addx', -19),\n",
       " ('addx', 1),\n",
       " ('addx', 16),\n",
       " ('addx', -11),\n",
       " ('noop', None),\n",
       " ('noop', None),\n",
       " ('addx', 21),\n",
       " ('addx', -15),\n",
       " ('noop', None),\n",
       " ('noop', None),\n",
       " ('addx', -3),\n",
       " ('addx', 9),\n",
       " ('addx', 1),\n",
       " ('addx', -3),\n",
       " ('addx', 8),\n",
       " ('addx', 1),\n",
       " ('addx', 5),\n",
       " ('noop', None),\n",
       " ('noop', None),\n",
       " ('noop', None),\n",
       " ('noop', None),\n",
       " ('noop', None),\n",
       " ('addx', -36),\n",
       " ('noop', None),\n",
       " ('addx', 1),\n",
       " ('addx', 7),\n",
       " ('noop', None),\n",
       " ('noop', None),\n",
       " ('noop', None),\n",
       " ('addx', 2),\n",
       " ('addx', 6),\n",
       " ('noop', None),\n",
       " ('noop', None),\n",
       " ('noop', None),\n",
       " ('noop', None),\n",
       " ('noop', None),\n",
       " ('addx', 1),\n",
       " ('noop', None),\n",
       " ('noop', None),\n",
       " ('addx', 7),\n",
       " ('addx', 1),\n",
       " ('noop', None),\n",
       " ('addx', -13),\n",
       " ('addx', 13),\n",
       " ('addx', 7),\n",
       " ('noop', None),\n",
       " ('addx', 1),\n",
       " ('addx', -33),\n",
       " ('noop', None),\n",
       " ('noop', None),\n",
       " ('noop', None),\n",
       " ('addx', 2),\n",
       " ('noop', None),\n",
       " ('noop', None),\n",
       " ('noop', None),\n",
       " ('addx', 8),\n",
       " ('noop', None),\n",
       " ('addx', -1),\n",
       " ('addx', 2),\n",
       " ('addx', 1),\n",
       " ('noop', None),\n",
       " ('addx', 17),\n",
       " ('addx', -9),\n",
       " ('addx', 1),\n",
       " ('addx', 1),\n",
       " ('addx', -3),\n",
       " ('addx', 11),\n",
       " ('noop', None),\n",
       " ('noop', None),\n",
       " ('addx', 1),\n",
       " ('noop', None),\n",
       " ('addx', 1),\n",
       " ('noop', None),\n",
       " ('noop', None),\n",
       " ('addx', -13),\n",
       " ('addx', -19),\n",
       " ('addx', 1),\n",
       " ('addx', 3),\n",
       " ('addx', 26),\n",
       " ('addx', -30),\n",
       " ('addx', 12),\n",
       " ('addx', -1),\n",
       " ('addx', 3),\n",
       " ('addx', 1),\n",
       " ('noop', None),\n",
       " ('noop', None),\n",
       " ('noop', None),\n",
       " ('addx', -9),\n",
       " ('addx', 18),\n",
       " ('addx', 1),\n",
       " ('addx', 2),\n",
       " ('noop', None),\n",
       " ('noop', None),\n",
       " ('addx', 9),\n",
       " ('noop', None),\n",
       " ('noop', None),\n",
       " ('noop', None),\n",
       " ('addx', -1),\n",
       " ('addx', 2),\n",
       " ('addx', -37),\n",
       " ('addx', 1),\n",
       " ('addx', 3),\n",
       " ('noop', None),\n",
       " ('addx', 15),\n",
       " ('addx', -21),\n",
       " ('addx', 22),\n",
       " ('addx', -6),\n",
       " ('addx', 1),\n",
       " ('noop', None),\n",
       " ('addx', 2),\n",
       " ('addx', 1),\n",
       " ('noop', None),\n",
       " ('addx', -10),\n",
       " ('noop', None),\n",
       " ('noop', None),\n",
       " ('addx', 20),\n",
       " ('addx', 1),\n",
       " ('addx', 2),\n",
       " ('addx', 2),\n",
       " ('addx', -6),\n",
       " ('addx', -11),\n",
       " ('noop', None),\n",
       " ('noop', None),\n",
       " ('noop', None)]"
      ]
     },
     "execution_count": 3,
     "metadata": {},
     "output_type": "execute_result"
    }
   ],
   "source": [
    "import re\n",
    "rx = re.compile(r\"^(\\w+)(?: (-?\\d+))?$\")\n",
    "\n",
    "def parse(input):\n",
    "  return [(d, None if s is None else int(s)) for d, s in (rx.match(line).groups() for line in input.splitlines(False))]\n",
    "\n",
    "parse(sample)"
   ]
  },
  {
   "attachments": {},
   "cell_type": "markdown",
   "metadata": {},
   "source": [
    "Solution"
   ]
  },
  {
   "cell_type": "code",
   "execution_count": 4,
   "metadata": {},
   "outputs": [
    {
     "data": {
      "text/plain": [
       "14340"
      ]
     },
     "execution_count": 4,
     "metadata": {},
     "output_type": "execute_result"
    }
   ],
   "source": [
    "def solve(input):\n",
    "  result = 0\n",
    "  program = parse(input)\n",
    "  x = 1\n",
    "  ip = 0\n",
    "  gas = 0\n",
    "\n",
    "  for i in range(1, 221):\n",
    "    op, value = program[ip]\n",
    "\n",
    "    if gas == 0:\n",
    "      if op == 'noop':\n",
    "        gas = 0\n",
    "      else:\n",
    "        gas = 1\n",
    "    else:\n",
    "      gas -= 1\n",
    "    \n",
    "    if i == 20 or i == 60 or i == 100 or i == 140 or i == 180 or i == 220:\n",
    "      result += x * i\n",
    "\n",
    "    if gas == 0:\n",
    "      if op == 'addx':\n",
    "        x += value\n",
    "      ip += 1\n",
    "  \n",
    "  return result\n",
    "\n",
    "assert solve(sample) == 13140\n",
    "solve(input)"
   ]
  },
  {
   "cell_type": "code",
   "execution_count": 12,
   "metadata": {},
   "outputs": [
    {
     "data": {
      "text/plain": [
       "['###...##..###....##..##..###..#..#.###..',\n",
       " '#..#.#..#.#..#....#.#..#.#..#.#..#.#..#.',\n",
       " '#..#.#..#.#..#....#.#....###..####.#..#.',\n",
       " '###..####.###.....#.#....#..#.#..#.###..',\n",
       " '#....#..#.#....#..#.#..#.#..#.#..#.#....',\n",
       " '#....#..#.#.....##...##..###..#..#.#....']"
      ]
     },
     "execution_count": 12,
     "metadata": {},
     "output_type": "execute_result"
    }
   ],
   "source": [
    "def solve(input):\n",
    "  result = []\n",
    "  program = parse(input)\n",
    "  x = 1\n",
    "  ip = 0\n",
    "  gas = 0\n",
    "\n",
    "  for i in range(240):\n",
    "    op, value = program[ip]\n",
    "\n",
    "    if gas == 0:\n",
    "      if op == 'noop':\n",
    "        gas = 0\n",
    "      else:\n",
    "        gas = 1\n",
    "    else:\n",
    "      gas -= 1\n",
    "    \n",
    "    result.append('#' if x - 1 <= i % 40 <= x + 1 else '.')\n",
    "\n",
    "    if gas == 0:\n",
    "      if op == 'addx':\n",
    "        x += value\n",
    "      ip += 1\n",
    "  \n",
    "  return [''.join(result[i : i+40]) for i in range(0, 220, 40)]\n",
    "\n",
    "solve(input)"
   ]
  }
 ],
 "metadata": {
  "kernelspec": {
   "display_name": "Python 3.9.15 ('base')",
   "language": "python",
   "name": "python3"
  },
  "language_info": {
   "codemirror_mode": {
    "name": "ipython",
    "version": 3
   },
   "file_extension": ".py",
   "mimetype": "text/x-python",
   "name": "python",
   "nbconvert_exporter": "python",
   "pygments_lexer": "ipython3",
   "version": "3.9.15"
  },
  "orig_nbformat": 4,
  "vscode": {
   "interpreter": {
    "hash": "d4d1e4263499bec80672ea0156c357c1ee493ec2b1c70f0acce89fc37c4a6abe"
   }
  }
 },
 "nbformat": 4,
 "nbformat_minor": 2
}
