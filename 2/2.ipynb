{
 "cells": [
  {
   "attachments": {},
   "cell_type": "markdown",
   "metadata": {},
   "source": [
    "Input"
   ]
  },
  {
   "cell_type": "code",
   "execution_count": 2,
   "metadata": {},
   "outputs": [],
   "source": [
    "from pathlib import Path \n",
    "sample = Path('sample').read_text()\n",
    "input = Path('input').read_text()"
   ]
  },
  {
   "attachments": {},
   "cell_type": "markdown",
   "metadata": {},
   "source": [
    "Parsing"
   ]
  },
  {
   "cell_type": "code",
   "execution_count": 6,
   "metadata": {},
   "outputs": [],
   "source": [
    "import re\n",
    "rx = re.compile(r'^(\\w) (\\w)$')\n",
    "\n",
    "def parse(input):\n",
    "  return [rx.match(line).groups() for line in input.splitlines(False)]"
   ]
  },
  {
   "attachments": {},
   "cell_type": "markdown",
   "metadata": {},
   "source": [
    "Solution"
   ]
  },
  {
   "cell_type": "code",
   "execution_count": 13,
   "metadata": {},
   "outputs": [
    {
     "data": {
      "text/plain": [
       "14163"
      ]
     },
     "execution_count": 13,
     "metadata": {},
     "output_type": "execute_result"
    }
   ],
   "source": [
    "play_score = dict({ 'X': 1, 'Y': 2, 'Z': 3 })\n",
    "canonical = lambda x :chr(ord(x) - ord('X') + ord('A'))\n",
    "\n",
    "def fight(a, b):\n",
    "  if a == b: return 3\n",
    "  return 6 if (a == 'A' and b == 'B') or (a == 'B' and b == 'C') or (a == 'C' and b == 'A') else 0\n",
    "\n",
    "def score(play):\n",
    "  return play_score[play[1]] + fight(play[0], canonical(play[1]))\n",
    "\n",
    "def solve(input):\n",
    "  return sum(score(play) for play in input)\n",
    "\n",
    "assert solve(parse(sample)) == 15\n",
    "solve(parse(input))"
   ]
  },
  {
   "cell_type": "code",
   "execution_count": 15,
   "metadata": {},
   "outputs": [
    {
     "data": {
      "text/plain": [
       "12091"
      ]
     },
     "execution_count": 15,
     "metadata": {},
     "output_type": "execute_result"
    }
   ],
   "source": [
    "play_score = dict({ 'A': 1, 'B': 2, 'C': 3 })\n",
    "\n",
    "def fight(a, b):\n",
    "  if a == b: return 3\n",
    "  return 6 if (a == 'A' and b == 'B') or (a == 'B' and b == 'C') or (a == 'C' and b == 'A') else 0\n",
    "\n",
    "def mymove(play):\n",
    "  if play[1] == 'Y': return play[0]\n",
    "  elif play[0] == 'A': return 'B' if play[1] == 'Z' else 'C'\n",
    "  elif play[0] == 'B': return 'C' if play[1] == 'Z' else 'A'\n",
    "  elif play[0] == 'C': return 'A' if play[1] == 'Z' else 'B'\n",
    "\n",
    "def score(play):\n",
    "  move = mymove(play)\n",
    "  return play_score[move] + fight(play[0], move)\n",
    "\n",
    "def solve(input):\n",
    "  return sum(score(play) for play in input)\n",
    "\n",
    "assert solve(parse(sample)) == 12\n",
    "solve(parse(input))"
   ]
  }
 ],
 "metadata": {
  "kernelspec": {
   "display_name": "Python 3.9.15 ('base')",
   "language": "python",
   "name": "python3"
  },
  "language_info": {
   "codemirror_mode": {
    "name": "ipython",
    "version": 3
   },
   "file_extension": ".py",
   "mimetype": "text/x-python",
   "name": "python",
   "nbconvert_exporter": "python",
   "pygments_lexer": "ipython3",
   "version": "3.9.15"
  },
  "orig_nbformat": 4,
  "vscode": {
   "interpreter": {
    "hash": "d4d1e4263499bec80672ea0156c357c1ee493ec2b1c70f0acce89fc37c4a6abe"
   }
  }
 },
 "nbformat": 4,
 "nbformat_minor": 2
}
