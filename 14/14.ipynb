{
 "cells": [
  {
   "attachments": {},
   "cell_type": "markdown",
   "metadata": {},
   "source": [
    "Input"
   ]
  },
  {
   "cell_type": "code",
   "execution_count": 1,
   "metadata": {},
   "outputs": [],
   "source": [
    "from pathlib import Path \n",
    "sample = Path('sample').read_text()\n",
    "input = Path('input').read_text()"
   ]
  },
  {
   "attachments": {},
   "cell_type": "markdown",
   "metadata": {},
   "source": [
    "Parsing"
   ]
  },
  {
   "cell_type": "code",
   "execution_count": 2,
   "metadata": {},
   "outputs": [
    {
     "data": {
      "text/plain": [
       "[[(498, 4), (498, 6), (496, 6)], [(503, 4), (502, 4), (502, 9), (494, 9)]]"
      ]
     },
     "execution_count": 2,
     "metadata": {},
     "output_type": "execute_result"
    }
   ],
   "source": [
    "import re\n",
    "rx = re.compile(r\"(\\d+),(\\d+)\")\n",
    "\n",
    "def parse(input):\n",
    "  return [[(int(x), int(y)) for x, y  in rx.findall(line)] for line in input.splitlines(False)]\n",
    "\n",
    "parse(sample)"
   ]
  },
  {
   "attachments": {},
   "cell_type": "markdown",
   "metadata": {},
   "source": [
    "Solution"
   ]
  },
  {
   "cell_type": "code",
   "execution_count": 3,
   "metadata": {},
   "outputs": [
    {
     "data": {
      "text/plain": [
       "698"
      ]
     },
     "execution_count": 3,
     "metadata": {},
     "output_type": "execute_result"
    }
   ],
   "source": [
    "def boundary(rocks):\n",
    "  min_x = min_y = 1e9\n",
    "  max_x = max_y = -1e9\n",
    "\n",
    "  for rock in rocks:\n",
    "    for x, y in rock:\n",
    "      min_x = min(min_x, x)\n",
    "      min_y = min(min_y, y)\n",
    "      max_x = max(max_x, x)\n",
    "      max_y = max(max_y, y)\n",
    "\n",
    "  return min_x, max_x, min_y, max_y\n",
    "\n",
    "def printmap(map, min_x, max_x, min_y, max_y):\n",
    "  for y in range(0, max_y + 1):\n",
    "    print(''.join(map[y][min_x:max_x + 1]))\n",
    "\n",
    "def points(a, b):\n",
    "  if b[0] - a[0] == 0:\n",
    "    min_y = min(a[1], b[1])\n",
    "    max_y = max(a[1], b[1])\n",
    "    return ((a[0], y) for y in range(min_y, max_y + 1))\n",
    "  elif b[1] - a[1] == 0:\n",
    "    min_x = min(a[0], b[0])\n",
    "    max_x = max(a[0], b[0])\n",
    "    return ((x, a[1]) for x in range(min_x, max_x + 1))\n",
    "\n",
    "def solve(input):\n",
    "  rocks = parse(input)\n",
    "  min_x, max_x, min_y, max_y = boundary(rocks)\n",
    "  h, w = 200, 600\n",
    "  map = [['.'] * w for _ in range(h)]\n",
    "  \n",
    "  for rock in rocks:\n",
    "    for a, b in zip(rock, rock[1:]):\n",
    "      for x, y in points(a, b):\n",
    "        map[y][x] = '#'\n",
    "\n",
    "  result = 0\n",
    "\n",
    "  while True:\n",
    "    grain = (500, 0)\n",
    "    while True:\n",
    "      if grain[1] > max_y:\n",
    "        return result\n",
    "      for x, y in [(grain[0], grain[1] + 1), (grain[0] - 1, grain[1] + 1), (grain[0] + 1, grain[1] + 1)]:\n",
    "        if map[y][x] == '.':\n",
    "          grain = (x, y)\n",
    "          break\n",
    "      else:\n",
    "        break\n",
    "    result += 1\n",
    "    map[grain[1]][grain[0]] = 'o'\n",
    "\n",
    "assert solve(sample) == 24\n",
    "solve(input)\n"
   ]
  },
  {
   "cell_type": "code",
   "execution_count": 4,
   "metadata": {},
   "outputs": [
    {
     "data": {
      "text/plain": [
       "28594"
      ]
     },
     "execution_count": 4,
     "metadata": {},
     "output_type": "execute_result"
    }
   ],
   "source": [
    "def solve(input):\n",
    "  rocks = parse(input)\n",
    "  min_x, max_x, min_y, max_y = boundary(rocks)\n",
    "  h, w = 200, 1000\n",
    "  map = [['.'] * w for _ in range(h)]\n",
    "  \n",
    "  for rock in rocks:\n",
    "    for a, b in zip(rock, rock[1:]):\n",
    "      for x, y in points(a, b):\n",
    "        map[y][x] = '#'\n",
    "\n",
    "  result = 0\n",
    "  floor = max_y + 2\n",
    "\n",
    "  while True:\n",
    "    grain = (500, 0)\n",
    "    while True:\n",
    "      for x, y in [(grain[0], grain[1] + 1), (grain[0] - 1, grain[1] + 1), (grain[0] + 1, grain[1] + 1)]:\n",
    "        if y < floor and map[y][x] == '.':\n",
    "          grain = (x, y)\n",
    "          break\n",
    "      else:\n",
    "        break\n",
    "    result += 1\n",
    "    map[grain[1]][grain[0]] = 'o'\n",
    "\n",
    "    if grain == (500, 0):\n",
    "      return result\n",
    "\n",
    "assert solve(sample) == 93\n",
    "solve(input)"
   ]
  }
 ],
 "metadata": {
  "kernelspec": {
   "display_name": "Python 3.9.15 ('base')",
   "language": "python",
   "name": "python3"
  },
  "language_info": {
   "codemirror_mode": {
    "name": "ipython",
    "version": 3
   },
   "file_extension": ".py",
   "mimetype": "text/x-python",
   "name": "python",
   "nbconvert_exporter": "python",
   "pygments_lexer": "ipython3",
   "version": "3.9.15"
  },
  "orig_nbformat": 4,
  "vscode": {
   "interpreter": {
    "hash": "d4d1e4263499bec80672ea0156c357c1ee493ec2b1c70f0acce89fc37c4a6abe"
   }
  }
 },
 "nbformat": 4,
 "nbformat_minor": 2
}
