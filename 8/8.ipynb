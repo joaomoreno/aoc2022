{
 "cells": [
  {
   "attachments": {},
   "cell_type": "markdown",
   "metadata": {},
   "source": [
    "Input"
   ]
  },
  {
   "cell_type": "code",
   "execution_count": 32,
   "metadata": {},
   "outputs": [],
   "source": [
    "from pathlib import Path \n",
    "sample = Path('sample').read_text()\n",
    "input = Path('input').read_text()"
   ]
  },
  {
   "attachments": {},
   "cell_type": "markdown",
   "metadata": {},
   "source": [
    "Parsing"
   ]
  },
  {
   "cell_type": "code",
   "execution_count": 33,
   "metadata": {},
   "outputs": [
    {
     "data": {
      "text/plain": [
       "[[3, 0, 3, 7, 3],\n",
       " [2, 5, 5, 1, 2],\n",
       " [6, 5, 3, 3, 2],\n",
       " [3, 3, 5, 4, 9],\n",
       " [3, 5, 3, 9, 0]]"
      ]
     },
     "execution_count": 33,
     "metadata": {},
     "output_type": "execute_result"
    }
   ],
   "source": [
    "def parse(input):\n",
    "  return [[int(char) for char in line] for line in input.splitlines(False)]\n",
    "\n",
    "parse(sample)"
   ]
  },
  {
   "attachments": {},
   "cell_type": "markdown",
   "metadata": {},
   "source": [
    "Solution"
   ]
  },
  {
   "cell_type": "code",
   "execution_count": 34,
   "metadata": {},
   "outputs": [
    {
     "data": {
      "text/plain": [
       "1698"
      ]
     },
     "execution_count": 34,
     "metadata": {},
     "output_type": "execute_result"
    }
   ],
   "source": [
    "def solve(input):\n",
    "  map = parse(input)\n",
    "  maxs = [[[None, None, None, None] for _ in row] for row in map]\n",
    "  h, w = len(map), len(map[0])\n",
    "\n",
    "  for y in range(h):\n",
    "    for x in range(w):\n",
    "      maxs[y][x][0] = -1 if y == 0 else max(maxs[y - 1][x][0], map[y - 1][x])\n",
    "      maxs[y][x][3] = -1 if x == 0 else max(maxs[y][x - 1][3], map[y][x - 1])\n",
    "\n",
    "  for y in reversed(range(h)):\n",
    "    for x in reversed(range(w)):\n",
    "      maxs[y][x][1] = -1 if y == h - 1 else max(maxs[y + 1][x][1], map[y + 1][x])\n",
    "      maxs[y][x][2] = -1 if x == w - 1 else max(maxs[y][x + 1][2], map[y][x + 1])\n",
    "\n",
    "  return sum(1 if any(map[y][x] > t for t in maxs[y][x]) else 0 for x in range(w) for y in range(h))\n",
    "\n",
    "assert solve(sample) == 21\n",
    "solve(input)"
   ]
  },
  {
   "cell_type": "code",
   "execution_count": 35,
   "metadata": {},
   "outputs": [
    {
     "data": {
      "text/plain": [
       "672280"
      ]
     },
     "execution_count": 35,
     "metadata": {},
     "output_type": "execute_result"
    }
   ],
   "source": [
    "from functools import reduce\n",
    "\n",
    "vs = [(0, -1), (1, 0), (0, 1), (-1, 0)]\n",
    "\n",
    "def scorev(map, w, h, x, y, dx, dy):\n",
    "  xx, yy = x, y\n",
    "  result = 0\n",
    "  while True:\n",
    "    xx, yy = xx + dx, yy + dy\n",
    "    if not (0 <= xx < w and 0 <= yy < h):\n",
    "      return result\n",
    "    result += 1\n",
    "    if map[yy][xx] >= map[y][x]:\n",
    "      return result\n",
    "\n",
    "def score(map, w, h, x, y):\n",
    "  return reduce(lambda a, b: a * b, (scorev(map, w, h, x, y, dx, dy) for dx, dy in vs), 1)\n",
    "\n",
    "def solve(input):\n",
    "  map = parse(input)\n",
    "  h, w = len(map), len(map[0])\n",
    "  return max(score(map, w, h, x, y) for x in range(w) for y in range(h))\n",
    "\n",
    "assert solve(sample) == 8\n",
    "solve(input)"
   ]
  }
 ],
 "metadata": {
  "kernelspec": {
   "display_name": "Python 3.9.15 ('base')",
   "language": "python",
   "name": "python3"
  },
  "language_info": {
   "codemirror_mode": {
    "name": "ipython",
    "version": 3
   },
   "file_extension": ".py",
   "mimetype": "text/x-python",
   "name": "python",
   "nbconvert_exporter": "python",
   "pygments_lexer": "ipython3",
   "version": "3.9.15"
  },
  "orig_nbformat": 4,
  "vscode": {
   "interpreter": {
    "hash": "d4d1e4263499bec80672ea0156c357c1ee493ec2b1c70f0acce89fc37c4a6abe"
   }
  }
 },
 "nbformat": 4,
 "nbformat_minor": 2
}
