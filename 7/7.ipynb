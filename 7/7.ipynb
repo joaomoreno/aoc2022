{
 "cells": [
  {
   "attachments": {},
   "cell_type": "markdown",
   "metadata": {},
   "source": [
    "Input"
   ]
  },
  {
   "cell_type": "code",
   "execution_count": 72,
   "metadata": {},
   "outputs": [],
   "source": [
    "from pathlib import Path \n",
    "sample = Path('sample').read_text()\n",
    "input = Path('input').read_text()"
   ]
  },
  {
   "attachments": {},
   "cell_type": "markdown",
   "metadata": {},
   "source": [
    "Parsing"
   ]
  },
  {
   "cell_type": "code",
   "execution_count": 73,
   "metadata": {},
   "outputs": [],
   "source": [
    "import re\n",
    "commandrx = re.compile(r'^\\$ (?P<cmd>\\w+)( (?P<arg>.*))?$')\n",
    "lsrx = re.compile(r'^(?P<meta>\\d+|dir) (?P<name>.*)$')\n",
    "\n",
    "def parse(input):\n",
    "  result = []\n",
    "  lines = input.splitlines(False)\n",
    "  i = 0\n",
    "\n",
    "  while i < len(lines):\n",
    "    cmd = commandrx.match(lines[i]).groupdict()\n",
    "\n",
    "    if cmd['cmd'] == 'ls':\n",
    "      children = []\n",
    "      i += 1\n",
    "      while i < len(lines) and (ls := lsrx.match(lines[i])):\n",
    "        ls = ls.groupdict()\n",
    "        if ls['meta'] == 'dir':\n",
    "          children.append({ 'type': 'dir', 'name': ls['name'] })\n",
    "        else:\n",
    "          children.append({ 'type': 'file', 'name': ls['name'], 'size': int(ls['meta']) })\n",
    "        i += 1\n",
    "      result.append({ 'type': 'ls', 'children': children })\n",
    "    else:\n",
    "      result.append({ 'type': 'cd', 'name': cmd['arg'] })\n",
    "      i += 1\n",
    "\n",
    "  return result"
   ]
  },
  {
   "attachments": {},
   "cell_type": "markdown",
   "metadata": {},
   "source": [
    "Solution"
   ]
  },
  {
   "cell_type": "code",
   "execution_count": 74,
   "metadata": {},
   "outputs": [
    {
     "data": {
      "text/plain": [
       "1206825"
      ]
     },
     "execution_count": 74,
     "metadata": {},
     "output_type": "execute_result"
    }
   ],
   "source": [
    "def build(commands):\n",
    "  root = { 'children': {}, 'size': None }\n",
    "  cwd = root\n",
    "  stack = [cwd]\n",
    "\n",
    "  for cmd in commands:\n",
    "    if cmd['type'] == 'cd':\n",
    "      if cmd['name'] == '..':\n",
    "        stack.pop()\n",
    "        cwd = stack[-1]\n",
    "      elif cmd['name'] == '/':\n",
    "        cwd = root\n",
    "        stack = [cwd]\n",
    "      else:\n",
    "        cwd = cwd['children'][cmd['name']]\n",
    "        stack.append(cwd)\n",
    "    else:\n",
    "      for child in cmd['children']:\n",
    "        if child['type'] == 'file':\n",
    "          cwd['children'][child['name']] = { 'size': child['size'] }\n",
    "        else:\n",
    "          cwd['children'][child['name']] = { 'children': {}, 'size': None }\n",
    "  return root\n",
    "\n",
    "def update_sizes(node):\n",
    "  if node['size'] is None:\n",
    "    node['size'] = sum(update_sizes(child) for child in node['children'].values())\n",
    "  return node['size']\n",
    "\n",
    "def directories(node):\n",
    "  if 'children' in node:\n",
    "    yield node\n",
    "\n",
    "    for child in node['children'].values():\n",
    "      yield from directories(child)\n",
    "\n",
    "def solve(input):\n",
    "  root = build(parse(input))\n",
    "  update_sizes(root)\n",
    "  return sum(node['size'] for node in directories(root) if node['size'] < 100000)\n",
    "\n",
    "assert solve(sample) == 95437\n",
    "solve(input)"
   ]
  },
  {
   "cell_type": "code",
   "execution_count": 75,
   "metadata": {},
   "outputs": [
    {
     "data": {
      "text/plain": [
       "9608311"
      ]
     },
     "execution_count": 75,
     "metadata": {},
     "output_type": "execute_result"
    }
   ],
   "source": [
    "def solve(input):\n",
    "  root = build(parse(input))\n",
    "  update_sizes(root)\n",
    "  cap = root['size'] - 40000000\n",
    "  candidates = [node for node in directories(root) if node['size'] >= cap]\n",
    "  candidates = sorted(candidates, key=lambda node: node['size'])\n",
    "  return candidates[0]['size']\n",
    "\n",
    "assert solve(sample) == 24933642\n",
    "solve(input)"
   ]
  }
 ],
 "metadata": {
  "kernelspec": {
   "display_name": "Python 3.9.15 ('base')",
   "language": "python",
   "name": "python3"
  },
  "language_info": {
   "codemirror_mode": {
    "name": "ipython",
    "version": 3
   },
   "file_extension": ".py",
   "mimetype": "text/x-python",
   "name": "python",
   "nbconvert_exporter": "python",
   "pygments_lexer": "ipython3",
   "version": "3.9.15"
  },
  "orig_nbformat": 4,
  "vscode": {
   "interpreter": {
    "hash": "d4d1e4263499bec80672ea0156c357c1ee493ec2b1c70f0acce89fc37c4a6abe"
   }
  }
 },
 "nbformat": 4,
 "nbformat_minor": 2
}
