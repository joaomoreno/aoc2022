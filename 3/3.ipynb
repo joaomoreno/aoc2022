{
 "cells": [
  {
   "attachments": {},
   "cell_type": "markdown",
   "metadata": {},
   "source": [
    "Input"
   ]
  },
  {
   "cell_type": "code",
   "execution_count": 33,
   "metadata": {},
   "outputs": [],
   "source": [
    "from pathlib import Path \n",
    "sample = Path('sample').read_text()\n",
    "input = Path('input').read_text()"
   ]
  },
  {
   "attachments": {},
   "cell_type": "markdown",
   "metadata": {},
   "source": [
    "Parsing"
   ]
  },
  {
   "cell_type": "code",
   "execution_count": 34,
   "metadata": {},
   "outputs": [
    {
     "data": {
      "text/plain": [
       "[('vJrwpWtwJgWr', 'hcsFMMfFFhFp'),\n",
       " ('jqHRNqRjqzjGDLGL', 'rsFMfFZSrLrFZsSL'),\n",
       " ('PmmdzqPrV', 'vPwwTWBwg'),\n",
       " ('wMqvLMZHhHMvwLH', 'jbvcjnnSBnvTQFn'),\n",
       " ('ttgJtRGJ', 'QctTZtZT'),\n",
       " ('CrZsJsPPZsGz', 'wwsLwLmpwMDw')]"
      ]
     },
     "execution_count": 34,
     "metadata": {},
     "output_type": "execute_result"
    }
   ],
   "source": [
    "def parse(input):\n",
    "  result = []\n",
    "  for line in input.splitlines(False):\n",
    "    half = int(len(line) / 2)\n",
    "    result.append((line[:half], line[half:]))\n",
    "  return result\n",
    "\n",
    "parse(sample)"
   ]
  },
  {
   "attachments": {},
   "cell_type": "markdown",
   "metadata": {},
   "source": [
    "Solution"
   ]
  },
  {
   "cell_type": "code",
   "execution_count": 35,
   "metadata": {},
   "outputs": [
    {
     "data": {
      "text/plain": [
       "7701"
      ]
     },
     "execution_count": 35,
     "metadata": {},
     "output_type": "execute_result"
    }
   ],
   "source": [
    "def prio(item):\n",
    "  return ord(item) + (1 - ord('a') if item >= 'a' and item <= 'z' else 27 - ord('A'))\n",
    "\n",
    "def common(a, b):\n",
    "  return set(a).intersection(set(b)).pop()\n",
    "\n",
    "def solve(input):\n",
    "  return sum(prio(common(*pair)) for pair in parse(input))\n",
    "\n",
    "assert solve(sample) == 157\n",
    "solve(input)"
   ]
  },
  {
   "cell_type": "code",
   "execution_count": 37,
   "metadata": {},
   "outputs": [
    {
     "data": {
      "text/plain": [
       "2644"
      ]
     },
     "execution_count": 37,
     "metadata": {},
     "output_type": "execute_result"
    }
   ],
   "source": [
    "def parse(input):\n",
    "  return input.splitlines(False)\n",
    "\n",
    "def prio(item):\n",
    "  return ord(item) + (1 - ord('a') if item >= 'a' and item <= 'z' else 27 - ord('A'))\n",
    "\n",
    "def common(a, b, c):\n",
    "  return set(a).intersection(set(b)).intersection(set(c)).pop()\n",
    "\n",
    "def solve(input):\n",
    "  return sum(prio(common(*triplet)) for triplet in zip(*[iter(parse(input))] * 3))\n",
    "\n",
    "assert solve(sample) == 70\n",
    "solve(input)"
   ]
  }
 ],
 "metadata": {
  "kernelspec": {
   "display_name": "Python 3.9.15 ('base')",
   "language": "python",
   "name": "python3"
  },
  "language_info": {
   "codemirror_mode": {
    "name": "ipython",
    "version": 3
   },
   "file_extension": ".py",
   "mimetype": "text/x-python",
   "name": "python",
   "nbconvert_exporter": "python",
   "pygments_lexer": "ipython3",
   "version": "3.9.15"
  },
  "orig_nbformat": 4,
  "vscode": {
   "interpreter": {
    "hash": "d4d1e4263499bec80672ea0156c357c1ee493ec2b1c70f0acce89fc37c4a6abe"
   }
  }
 },
 "nbformat": 4,
 "nbformat_minor": 2
}
