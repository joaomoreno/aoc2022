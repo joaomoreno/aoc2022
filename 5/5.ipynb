{
 "cells": [
  {
   "attachments": {},
   "cell_type": "markdown",
   "metadata": {},
   "source": [
    "Input"
   ]
  },
  {
   "cell_type": "code",
   "execution_count": 1,
   "metadata": {},
   "outputs": [],
   "source": [
    "from pathlib import Path \n",
    "sample = Path('sample').read_text()\n",
    "input = Path('input').read_text()"
   ]
  },
  {
   "attachments": {},
   "cell_type": "markdown",
   "metadata": {},
   "source": [
    "Parsing"
   ]
  },
  {
   "cell_type": "code",
   "execution_count": 8,
   "metadata": {},
   "outputs": [
    {
     "data": {
      "text/plain": [
       "([['Z', 'N'], ['M', 'C', 'D'], ['P']],\n",
       " [(1, 1, 0), (3, 0, 2), (2, 1, 0), (1, 0, 1)])"
      ]
     },
     "execution_count": 8,
     "metadata": {},
     "output_type": "execute_result"
    }
   ],
   "source": [
    "import re\n",
    "moverx = re.compile(r'^move (\\d+) from (\\d+) to (\\d+)$')\n",
    "bracketrx = re.compile(r'^\\s*\\[')\n",
    "\n",
    "def parse(input):\n",
    "  rows, moves = [], []\n",
    "\n",
    "  for line in input.splitlines(False):\n",
    "    if bracketrx.match(line):\n",
    "      l = []\n",
    "      for i in range(0, len(line), 4):\n",
    "        l.append(None if line[i] == ' ' else line[i+1])\n",
    "      rows.append(l)\n",
    "    elif (m := moverx.match(line)):\n",
    "      moves.append((int(m[1]), int(m[2])-1, int(m[3])-1))\n",
    "\n",
    "  stacks = [list(c for c in reversed([r[i] for r in rows]) if c is not None) for i in range(len(rows[0]))]\n",
    "  return stacks, moves\n",
    "\n",
    "parse(sample)"
   ]
  },
  {
   "attachments": {},
   "cell_type": "markdown",
   "metadata": {},
   "source": [
    "Solution"
   ]
  },
  {
   "cell_type": "code",
   "execution_count": 16,
   "metadata": {},
   "outputs": [
    {
     "data": {
      "text/plain": [
       "'SBPQRSCDF'"
      ]
     },
     "execution_count": 16,
     "metadata": {},
     "output_type": "execute_result"
    }
   ],
   "source": [
    "def solve(input):\n",
    "  stacks, moves = parse(input)\n",
    "  for m in moves:\n",
    "    for i in range(m[0]):\n",
    "      stacks[m[2]].append(stacks[m[1]].pop())\n",
    "  return ''.join([s[-1] for s in stacks])\n",
    "\n",
    "solve(input)"
   ]
  },
  {
   "cell_type": "code",
   "execution_count": 20,
   "metadata": {},
   "outputs": [
    {
     "data": {
      "text/plain": [
       "'RGLVRCQSB'"
      ]
     },
     "execution_count": 20,
     "metadata": {},
     "output_type": "execute_result"
    }
   ],
   "source": [
    "def solve(input):\n",
    "  stacks, moves = parse(input)\n",
    "  for m in moves:\n",
    "    stacks[m[2]].extend(stacks[m[1]][-m[0]:])\n",
    "    stacks[m[1]] = stacks[m[1]][:-m[0]]\n",
    "  return ''.join([s[-1] for s in stacks])\n",
    "\n",
    "solve(input)"
   ]
  }
 ],
 "metadata": {
  "kernelspec": {
   "display_name": "Python 3.9.15 ('base')",
   "language": "python",
   "name": "python3"
  },
  "language_info": {
   "codemirror_mode": {
    "name": "ipython",
    "version": 3
   },
   "file_extension": ".py",
   "mimetype": "text/x-python",
   "name": "python",
   "nbconvert_exporter": "python",
   "pygments_lexer": "ipython3",
   "version": "3.9.15"
  },
  "orig_nbformat": 4,
  "vscode": {
   "interpreter": {
    "hash": "d4d1e4263499bec80672ea0156c357c1ee493ec2b1c70f0acce89fc37c4a6abe"
   }
  }
 },
 "nbformat": 4,
 "nbformat_minor": 2
}
