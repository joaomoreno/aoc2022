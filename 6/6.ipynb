{
 "cells": [
  {
   "attachments": {},
   "cell_type": "markdown",
   "metadata": {},
   "source": [
    "Input"
   ]
  },
  {
   "cell_type": "code",
   "execution_count": 10,
   "metadata": {},
   "outputs": [],
   "source": [
    "from pathlib import Path \n",
    "sample = Path('sample').read_text()\n",
    "input = Path('input').read_text()"
   ]
  },
  {
   "attachments": {},
   "cell_type": "markdown",
   "metadata": {},
   "source": [
    "Solution"
   ]
  },
  {
   "cell_type": "code",
   "execution_count": 11,
   "metadata": {},
   "outputs": [
    {
     "data": {
      "text/plain": [
       "1794"
      ]
     },
     "execution_count": 11,
     "metadata": {},
     "output_type": "execute_result"
    }
   ],
   "source": [
    "from itertools import islice\n",
    "\n",
    "def slidingwindow(iterable, size):\n",
    "  it = iter(iterable)\n",
    "  result = tuple(islice(it, size))\n",
    "  if len(result) == size:\n",
    "    yield result\n",
    "  for elem in it:\n",
    "    result = result[1:] + (elem,)\n",
    "    yield result\n",
    "\n",
    "def solve(input):\n",
    "  i = 0\n",
    "  for window in slidingwindow(input, 4):\n",
    "    if len(set(window)) == 4:\n",
    "      return i + 4\n",
    "    i += 1\n",
    "\n",
    "assert solve(sample) == 7\n",
    "solve(input)"
   ]
  },
  {
   "cell_type": "code",
   "execution_count": 12,
   "metadata": {},
   "outputs": [
    {
     "data": {
      "text/plain": [
       "2851"
      ]
     },
     "execution_count": 12,
     "metadata": {},
     "output_type": "execute_result"
    }
   ],
   "source": [
    "def solve(input):\n",
    "  i = 0\n",
    "  for window in slidingwindow(input, 14):\n",
    "    if len(set(window)) == 14:\n",
    "      return i + 14\n",
    "    i += 1\n",
    "\n",
    "assert solve(sample) == 19\n",
    "solve(input)"
   ]
  }
 ],
 "metadata": {
  "kernelspec": {
   "display_name": "Python 3.9.15 ('base')",
   "language": "python",
   "name": "python3"
  },
  "language_info": {
   "codemirror_mode": {
    "name": "ipython",
    "version": 3
   },
   "file_extension": ".py",
   "mimetype": "text/x-python",
   "name": "python",
   "nbconvert_exporter": "python",
   "pygments_lexer": "ipython3",
   "version": "3.9.15"
  },
  "orig_nbformat": 4,
  "vscode": {
   "interpreter": {
    "hash": "d4d1e4263499bec80672ea0156c357c1ee493ec2b1c70f0acce89fc37c4a6abe"
   }
  }
 },
 "nbformat": 4,
 "nbformat_minor": 2
}
