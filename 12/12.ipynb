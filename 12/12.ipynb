{
 "cells": [
  {
   "attachments": {},
   "cell_type": "markdown",
   "metadata": {},
   "source": [
    "Input"
   ]
  },
  {
   "cell_type": "code",
   "execution_count": 1,
   "metadata": {},
   "outputs": [],
   "source": [
    "from pathlib import Path \n",
    "sample = Path('sample').read_text()\n",
    "input = Path('input').read_text()"
   ]
  },
  {
   "attachments": {},
   "cell_type": "markdown",
   "metadata": {},
   "source": [
    "Parsing"
   ]
  },
  {
   "cell_type": "code",
   "execution_count": 2,
   "metadata": {},
   "outputs": [
    {
     "data": {
      "text/plain": [
       "(['aabqponm', 'abcryxxl', 'accszzxk', 'acctuvwj', 'abdefghi'], (0, 0), (5, 2))"
      ]
     },
     "execution_count": 2,
     "metadata": {},
     "output_type": "execute_result"
    }
   ],
   "source": [
    "def parse(input):\n",
    "  map = input.splitlines(False)\n",
    "\n",
    "  for y in range(len(map)):\n",
    "    for x in range(len(map[y])):\n",
    "      if map[y][x] == 'S':\n",
    "        start = (x, y)\n",
    "        map[y] = map[y].replace('S', 'a')\n",
    "      elif map[y][x] == 'E':\n",
    "        end = (x, y)\n",
    "        map[y] = map[y].replace('E', 'z')\n",
    "\n",
    "  return map, start, end\n",
    "\n",
    "parse(sample)"
   ]
  },
  {
   "attachments": {},
   "cell_type": "markdown",
   "metadata": {},
   "source": [
    "Solution"
   ]
  },
  {
   "cell_type": "code",
   "execution_count": 17,
   "metadata": {},
   "outputs": [
    {
     "data": {
      "text/plain": [
       "534"
      ]
     },
     "execution_count": 17,
     "metadata": {},
     "output_type": "execute_result"
    }
   ],
   "source": [
    "def neighbors(map, x, y):\n",
    "  for dx, dy in [(0, 1), (0, -1), (1, 0), (-1, 0)]:\n",
    "    xx, yy = x + dx, y + dy\n",
    "    if 0 <= xx < len(map[0]) and 0 <= yy < len(map) and ord(map[yy][xx]) <= ord(map[y][x]) + 1:\n",
    "      yield xx, yy\n",
    "\n",
    "def dijkstra(map, start, end):\n",
    "  dist = {start: 0}\n",
    "  prev = {start: None}\n",
    "  q = [start]\n",
    "\n",
    "  while q:\n",
    "    q.sort(key=lambda n: dist[n])\n",
    "    u = q.pop(0)\n",
    "\n",
    "    if u == end:\n",
    "      break\n",
    "\n",
    "    for v in neighbors(map, *u):\n",
    "      alt = dist[u] + 1\n",
    "      if v not in dist or alt < dist[v]:\n",
    "        dist[v] = alt\n",
    "        prev[v] = u\n",
    "        q.append(v)\n",
    "\n",
    "  return dist, prev\n",
    "\n",
    "def solve(input):\n",
    "  map, start, end = parse(input)\n",
    "  dist, prev = dijkstra(map, start, end)\n",
    "  return dist[end]\n",
    "\n",
    "assert solve(sample) == 31\n",
    "solve(input)"
   ]
  },
  {
   "cell_type": "code",
   "execution_count": 25,
   "metadata": {},
   "outputs": [
    {
     "data": {
      "text/plain": [
       "525"
      ]
     },
     "execution_count": 25,
     "metadata": {},
     "output_type": "execute_result"
    }
   ],
   "source": [
    "def solve(input):\n",
    "  map, _, end = parse(input)\n",
    "  starts = []\n",
    "\n",
    "  for y in range(len(map)):\n",
    "    for x in range(len(map[y])):\n",
    "      if map[y][x] == 'a':\n",
    "        starts.append((x, y))\n",
    "\n",
    "  results = [dijkstra(map, start, end)[0] for start in starts]\n",
    "  return min(result[end] for result in results if end in result)\n",
    "\n",
    "assert solve(sample) == 29\n",
    "solve(input)"
   ]
  }
 ],
 "metadata": {
  "kernelspec": {
   "display_name": "Python 3.9.15 ('base')",
   "language": "python",
   "name": "python3"
  },
  "language_info": {
   "codemirror_mode": {
    "name": "ipython",
    "version": 3
   },
   "file_extension": ".py",
   "mimetype": "text/x-python",
   "name": "python",
   "nbconvert_exporter": "python",
   "pygments_lexer": "ipython3",
   "version": "3.9.15"
  },
  "orig_nbformat": 4,
  "vscode": {
   "interpreter": {
    "hash": "d4d1e4263499bec80672ea0156c357c1ee493ec2b1c70f0acce89fc37c4a6abe"
   }
  }
 },
 "nbformat": 4,
 "nbformat_minor": 2
}
