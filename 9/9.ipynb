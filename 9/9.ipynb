{
 "cells": [
  {
   "attachments": {},
   "cell_type": "markdown",
   "metadata": {},
   "source": [
    "Input"
   ]
  },
  {
   "cell_type": "code",
   "execution_count": 40,
   "metadata": {},
   "outputs": [],
   "source": [
    "from pathlib import Path \n",
    "sample = Path('sample').read_text()\n",
    "sample2 = Path('sample2').read_text()\n",
    "input = Path('input').read_text()"
   ]
  },
  {
   "attachments": {},
   "cell_type": "markdown",
   "metadata": {},
   "source": [
    "Parsing"
   ]
  },
  {
   "cell_type": "code",
   "execution_count": 41,
   "metadata": {},
   "outputs": [
    {
     "data": {
      "text/plain": [
       "[('R', 4),\n",
       " ('U', 4),\n",
       " ('L', 3),\n",
       " ('D', 1),\n",
       " ('R', 4),\n",
       " ('D', 1),\n",
       " ('L', 5),\n",
       " ('R', 2)]"
      ]
     },
     "execution_count": 41,
     "metadata": {},
     "output_type": "execute_result"
    }
   ],
   "source": [
    "import re\n",
    "rx = re.compile(r\"^(\\w) (\\d+)$\")\n",
    "\n",
    "def parse(input):\n",
    "  return [(d, int(s)) for d, s in (rx.match(line).groups() for line in input.splitlines(False))]\n",
    "\n",
    "parse(sample)"
   ]
  },
  {
   "attachments": {},
   "cell_type": "markdown",
   "metadata": {},
   "source": [
    "Solution"
   ]
  },
  {
   "cell_type": "code",
   "execution_count": 42,
   "metadata": {},
   "outputs": [
    {
     "data": {
      "text/plain": [
       "5883"
      ]
     },
     "execution_count": 42,
     "metadata": {},
     "output_type": "execute_result"
    }
   ],
   "source": [
    "V = { 'R': (1, 0),  'L': (-1, 0),  'U': (0, 1),  'D': (0, -1) }\n",
    "\n",
    "def unit(v):\n",
    "  return (0 if v[0] == 0 else 1 if v[0] > 0 else -1, 0 if v[1] == 0 else 1 if v[1] > 0 else -1)\n",
    "\n",
    "def solve(input):\n",
    "  instructions = parse(input)\n",
    "  h = t = (0, 0)\n",
    "  result = set()\n",
    "\n",
    "  for d, s in instructions:\n",
    "    for _ in range(s):\n",
    "      h = (h[0] + V[d][0], h[1] + V[d][1])\n",
    "      v = (h[0] - t[0], h[1] - t[1])\n",
    "      dist = abs(v[0]) + abs(v[1])\n",
    "      if dist >= 2:\n",
    "        vu = unit(v)\n",
    "        if vu[0] == 0 or vu[1] == 0 or dist >= 3:\n",
    "          t = (t[0] + vu[0], t[1] + vu[1])\n",
    "      result.add(t)\n",
    "  return len(result)\n",
    "\n",
    "assert solve(sample) == 13\n",
    "solve(input)"
   ]
  },
  {
   "cell_type": "code",
   "execution_count": 43,
   "metadata": {},
   "outputs": [
    {
     "data": {
      "text/plain": [
       "2367"
      ]
     },
     "execution_count": 43,
     "metadata": {},
     "output_type": "execute_result"
    }
   ],
   "source": [
    "def solve(input):\n",
    "  instructions = parse(input)\n",
    "  knots = [(0, 0) for _ in range(10)]\n",
    "  result = set()\n",
    "\n",
    "  for d, s in instructions:\n",
    "    for _ in range(s):\n",
    "      knots[0] = (knots[0][0] + V[d][0], knots[0][1] + V[d][1])\n",
    "      for i in range(1, 10):\n",
    "        prev = knots[i - 1]\n",
    "        curr = knots[i]\n",
    "        v = (prev[0] - curr[0], prev[1] - curr[1])\n",
    "        dist = abs(v[0]) + abs(v[1])\n",
    "        if dist >= 2:\n",
    "          vu = unit(v)\n",
    "          if vu[0] == 0 or vu[1] == 0 or dist >= 3:\n",
    "            knots[i] = (curr[0] + vu[0], curr[1] + vu[1])\n",
    "      result.add(knots[9])\n",
    "  return len(result)\n",
    "\n",
    "assert solve(sample2) == 36\n",
    "solve(input)"
   ]
  }
 ],
 "metadata": {
  "kernelspec": {
   "display_name": "Python 3.9.15 ('base')",
   "language": "python",
   "name": "python3"
  },
  "language_info": {
   "codemirror_mode": {
    "name": "ipython",
    "version": 3
   },
   "file_extension": ".py",
   "mimetype": "text/x-python",
   "name": "python",
   "nbconvert_exporter": "python",
   "pygments_lexer": "ipython3",
   "version": "3.9.15"
  },
  "orig_nbformat": 4,
  "vscode": {
   "interpreter": {
    "hash": "d4d1e4263499bec80672ea0156c357c1ee493ec2b1c70f0acce89fc37c4a6abe"
   }
  }
 },
 "nbformat": 4,
 "nbformat_minor": 2
}
