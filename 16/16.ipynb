{
 "cells": [
  {
   "attachments": {},
   "cell_type": "markdown",
   "metadata": {},
   "source": [
    "Input"
   ]
  },
  {
   "cell_type": "code",
   "execution_count": 1,
   "metadata": {},
   "outputs": [
    {
     "name": "stderr",
     "output_type": "stream",
     "text": [
      "Bad pipe message: %s [b'eI(6\\xe9D>E\\xc0\\xbb%\\x9c\\xc0\\x1a\\xf8u\\x9b\\xfe M9L4\\xd2\\x87\\x17\\\\<\\xe8\\xdf\\x17\\x15\\xb3e\\x9e\\x19\\x8f\\x9b\\n_.{\\xae\\x81\"(\\xc7\\x84\\xca\\x9eP\\x00\\x08\\x13\\x02\\x13\\x03\\x13\\x01\\x00\\xff\\x01\\x00\\x00\\x8f\\x00\\x00\\x00\\x0e\\x00\\x0c\\x00\\x00\\t127.0.0.1\\x00\\x0b\\x00\\x04\\x03\\x00\\x01\\x02\\x00\\n\\x00\\x0c\\x00\\n\\x00\\x1d\\x00\\x17\\x00\\x1e\\x00\\x19\\x00\\x18\\x00#\\x00\\x00\\x00\\x16\\x00\\x00\\x00\\x17\\x00\\x00\\x00\\r\\x00\\x1e\\x00\\x1c\\x04\\x03\\x05\\x03\\x06\\x03\\x08\\x07\\x08\\x08\\x08\\t\\x08\\n\\x08\\x0b\\x08\\x04\\x08\\x05\\x08\\x06\\x04\\x01\\x05\\x01\\x06\\x01\\x00+\\x00\\x03\\x02\\x03\\x04\\x00-\\x00\\x02\\x01\\x01\\x003\\x00&\\x00$\\x00']\n",
      "Bad pipe message: %s [b' \\xb9\\xf2+\\xb8=\\x01u\\x8a@\\x89\\xa8Pp\\x92%\\x94R\\xc3\\xdfJV\\xb2\\xc78\\xbe3\\x19']\n",
      "Bad pipe message: %s [b\"\\xd7\\x93e\\xc0O\\xb6\\xc6\\xcej'F@\\xa8p\\xed\\xdb2\\xa6\\x00\\x00|\\xc0,\\xc00\\x00\\xa3\\x00\\x9f\\xcc\\xa9\\xcc\\xa8\\xcc\\xaa\\xc0\\xaf\\xc0\\xad\\xc0\\xa3\\xc0\\x9f\\xc0]\\xc0a\\xc0W\\xc0S\\xc0+\\xc0/\\x00\\xa2\\x00\\x9e\\xc0\\xae\\xc0\\xac\\xc0\\xa2\\xc0\\x9e\\xc0\\\\\\xc0`\\xc0V\\xc0R\\xc0$\\xc0(\\x00k\\x00j\\xc0#\\xc0'\\x00g\\x00@\\xc0\\n\\xc0\\x14\\x009\\x008\\xc0\\t\\xc0\\x13\\x003\\x002\\x00\\x9d\\xc0\\xa1\\xc0\\x9d\\xc0Q\\x00\\x9c\\xc0\\xa0\\xc0\\x9c\\xc0P\\x00=\\x00<\\x005\\x00/\\x00\\x9a\\x00\\x99\\xc0\\x07\\xc0\\x11\\x00\\x96\\x00\\x05\\x00\\xff\\x01\\x00\\x00j\\x00\\x00\\x00\\x0e\\x00\\x0c\\x00\\x00\\t127.0.0.1\\x00\\x0b\\x00\\x04\\x03\\x00\\x01\\x02\\x00\\n\\x00\\x0c\\x00\\n\\x00\\x1d\\x00\\x17\\x00\\x1e\\x00\\x19\\x00\\x18\\x00#\\x00\\x00\\x00\\x16\\x00\\x00\\x00\\x17\\x00\\x00\\x00\\r\\x000\\x00.\\x04\\x03\\x05\\x03\\x06\\x03\\x08\\x07\\x08\\x08\\x08\\t\\x08\\n\\x08\\x0b\\x08\\x04\\x08\\x05\\x08\\x06\\x04\\x01\", b'\\x06\\x01\\x03\\x03', b'\\x03', b'']\n",
      "Bad pipe message: %s [b'', b'\\x02']\n",
      "Bad pipe message: %s [b'\\x05\\x02\\x06']\n",
      "Bad pipe message: %s [b\"r\\x81svnL\\xed:D\\xeem\\xc5\\xfeD\\x00\\x9d&@\\x00\\x00\\xa6\\xc0,\\xc00\\x00\\xa3\\x00\\x9f\\xcc\\xa9\\xcc\\xa8\\xcc\\xaa\\xc0\\xaf\\xc0\\xad\\xc0\\xa3\\xc0\\x9f\\xc0]\\xc0a\\xc0W\\xc0S\\xc0+\\xc0/\\x00\\xa2\\x00\\x9e\\xc0\\xae\\xc0\\xac\\xc0\\xa2\\xc0\\x9e\\xc0\\\\\\xc0`\\xc0V\\xc0R\\xc0$\\xc0(\\x00k\\x00j\\xc0s\\xc0w\\x00\\xc4\\x00\\xc3\\xc0#\\xc0'\\x00g\\x00@\\xc0r\\xc0v\\x00\\xbe\\x00\\xbd\\xc0\\n\\xc0\\x14\\x009\\x008\\x00\\x88\\x00\\x87\\xc0\\t\\xc0\\x13\\x003\\x002\\x00\\x9a\\x00\\x99\\x00E\\x00D\\xc0\\x07\\xc0\\x11\\xc0\\x08\\xc0\\x12\\x00\\x16\\x00\\x13\\x00\\x9d\\xc0\\xa1\\xc0\\x9d\\xc0Q\\x00\\x9c\\xc0\\xa0\\xc0\\x9c\\xc0P\\x00=\\x00\\xc0\\x00<\\x00\\xba\\x005\\x00\\x84\\x00/\\x00\\x96\\x00A\\x00\\x05\\x00\\n\\x00\\xff\\x01\\x00\\x00j\\x00\\x00\\x00\\x0e\\x00\\x0c\\x00\\x00\\t127.0.0.1\\x00\\x0b\\x00\\x04\\x03\\x00\\x01\\x02\\x00\\n\\x00\\x0c\\x00\\n\\x00\\x1d\\x00\\x17\\x00\\x1e\\x00\\x19\\x00\\x18\\x00#\\x00\\x00\\x00\\x16\\x00\\x00\"]\n",
      "Bad pipe message: %s [b'{\\x14\\x13Z\\x01\\xb3m=VEg)1\\xd50\\xc8\\x80\\xb5\\x00\\x00\\xa2\\xc0\\x14\\xc0\\n\\x009\\x008\\x007\\x006\\x00\\x88\\x00\\x87\\x00\\x86\\x00\\x85\\xc0\\x19\\x00:\\x00\\x89\\xc0\\x0f\\xc0\\x05\\x005\\x00\\x84\\xc0\\x13\\xc0\\t\\x003\\x002\\x001\\x000\\x00\\x9a\\x00\\x99\\x00\\x98\\x00\\x97\\x00E\\x00D\\x00C\\x00B\\xc0\\x18\\x004\\x00\\x9b\\x00F\\xc0\\x0e\\xc0\\x04\\x00/\\x00\\x96\\x00A\\x00\\x07\\xc0\\x11\\xc0\\x07\\xc0\\x16\\x00\\x18\\xc0\\x0c\\xc0\\x02\\x00\\x05\\x00\\x04\\xc0\\x12\\xc0\\x08\\x00\\x16\\x00\\x13\\x00\\x10\\x00\\r\\xc0\\x17\\x00\\x1b\\xc0\\r\\xc0\\x03\\x00\\n\\x00\\x15\\x00\\x12\\x00\\x0f\\x00\\x0c\\x00\\x1a\\x00\\t\\x00\\x14\\x00\\x11\\x00\\x19\\x00\\x08\\x00\\x06\\x00\\x17\\x00\\x03\\xc0\\x10\\xc0\\x06\\xc0\\x15\\xc0\\x0b\\xc0\\x01\\x00\\x02\\x00\\x01\\x00\\xff\\x02\\x01\\x00\\x00C\\x00\\x00\\x00\\x0e\\x00\\x0c\\x00\\x00\\t127.0.0.1\\x00\\x0b\\x00\\x04\\x03\\x00\\x01', b'\\n']\n",
      "Bad pipe message: %s [b\"\\x80\\xc7\\x15\\xc6\\xf7\\x92\\xf4 Hh\\x84\\xc1\\xad3\\x08\\x85D\\xc1\\x00\\x00\\xf4\\xc00\\xc0,\\xc0(\\xc0$\\xc0\\x14\\xc0\\n\\x00\\xa5\\x00\\xa3\\x00\\xa1\\x00\\x9f\\x00k\\x00j\\x00i\\x00h\\x009\\x008\\x007\\x006\\x00\\x88\\x00\\x87\\x00\\x86\\x00\\x85\\xc0\\x19\\x00\\xa7\\x00m\\x00:\\x00\\x89\\xc02\\xc0.\\xc0*\\xc0&\\xc0\\x0f\\xc0\\x05\\x00\\x9d\\x00=\\x005\\x00\\x84\\xc0/\\xc0+\\xc0'\\xc0#\\xc0\\x13\\xc0\\t\\x00\\xa4\\x00\\xa2\\x00\\xa0\\x00\\x9e\\x00g\\x00@\\x00?\\x00>\\x003\\x002\\x001\\x000\\x00\\x9a\\x00\\x99\\x00\\x98\\x00\\x97\\x00E\\x00D\\x00C\\x00B\\xc0\\x18\\x00\\xa6\\x00l\\x004\\x00\\x9b\\x00F\\xc01\\xc0-\\xc0)\\xc0%\\xc0\\x0e\\xc0\\x04\\x00\\x9c\\x00<\\x00/\\x00\\x96\\x00A\\x00\\x07\\xc0\\x11\\xc0\\x07\\xc0\\x16\\x00\\x18\\xc0\\x0c\\xc0\\x02\\x00\\x05\\x00\\x04\\xc0\\x12\\xc0\\x08\\x00\\x16\\x00\\x13\\x00\\x10\\x00\\r\\xc0\\x17\\x00\\x1b\\xc0\\r\\xc0\\x03\\x00\\n\\x00\\x15\\x00\\x12\\x00\\x0f\\x00\\x0c\\x00\\x1a\\x00\\t\\x00\\x14\\x00\\x11\\x00\\x19\\x00\\x08\\x00\\x06\"]\n"
     ]
    }
   ],
   "source": [
    "from pathlib import Path \n",
    "sample = Path('sample').read_text()\n",
    "input = Path('input').read_text()"
   ]
  },
  {
   "attachments": {},
   "cell_type": "markdown",
   "metadata": {},
   "source": [
    "Parsing"
   ]
  },
  {
   "cell_type": "code",
   "execution_count": 3,
   "metadata": {},
   "outputs": [
    {
     "data": {
      "text/plain": [
       "{'AA': (0, ['DD', 'II', 'BB']),\n",
       " 'BB': (13, ['CC', 'AA']),\n",
       " 'CC': (2, ['DD', 'BB']),\n",
       " 'DD': (20, ['CC', 'AA', 'EE']),\n",
       " 'EE': (3, ['FF', 'DD']),\n",
       " 'FF': (0, ['EE', 'GG']),\n",
       " 'GG': (0, ['FF', 'HH']),\n",
       " 'HH': (22, ['GG']),\n",
       " 'II': (0, ['AA', 'JJ']),\n",
       " 'JJ': (21, ['II'])}"
      ]
     },
     "execution_count": 3,
     "metadata": {},
     "output_type": "execute_result"
    }
   ],
   "source": [
    "import re\n",
    "rx = re.compile(r'^Valve (\\w\\w) has flow rate=(\\d+); tunnels? leads? to valves? (.*)$')\n",
    "\n",
    "def _parse(input):\n",
    "  for line in input.splitlines():\n",
    "    valve, flow, valves = rx.match(line).groups()\n",
    "    yield valve, (int(flow), valves.split(', '))\n",
    "\n",
    "def parse(input):\n",
    "  return dict(_parse(input))\n",
    "\n",
    "parse(sample)"
   ]
  },
  {
   "attachments": {},
   "cell_type": "markdown",
   "metadata": {},
   "source": [
    "Solution"
   ]
  },
  {
   "cell_type": "code",
   "execution_count": 29,
   "metadata": {},
   "outputs": [
    {
     "ename": "KeyboardInterrupt",
     "evalue": "",
     "output_type": "error",
     "traceback": [
      "\u001b[0;31m---------------------------------------------------------------------------\u001b[0m",
      "\u001b[0;31mKeyboardInterrupt\u001b[0m                         Traceback (most recent call last)",
      "Cell \u001b[0;32mIn [29], line 69\u001b[0m\n\u001b[1;32m     65\u001b[0m     \u001b[39mreturn\u001b[39;00m mem[key]\n\u001b[1;32m     67\u001b[0m   \u001b[39mreturn\u001b[39;00m f(\u001b[39m'\u001b[39m\u001b[39mAA\u001b[39m\u001b[39m'\u001b[39m, \u001b[39m30\u001b[39m, ())\n\u001b[0;32m---> 69\u001b[0m \u001b[39massert\u001b[39;00m solve(sample) \u001b[39m==\u001b[39m \u001b[39m1651\u001b[39m\n",
      "Cell \u001b[0;32mIn [29], line 67\u001b[0m, in \u001b[0;36msolve\u001b[0;34m(input)\u001b[0m\n\u001b[1;32m     63\u001b[0m     mem[key] \u001b[39m=\u001b[39m \u001b[39mmax\u001b[39m(result, key\u001b[39m=\u001b[39m\u001b[39mlambda\u001b[39;00m open_valves: pressure(open_valves))\n\u001b[1;32m     65\u001b[0m   \u001b[39mreturn\u001b[39;00m mem[key]\n\u001b[0;32m---> 67\u001b[0m \u001b[39mreturn\u001b[39;00m f(\u001b[39m'\u001b[39;49m\u001b[39mAA\u001b[39;49m\u001b[39m'\u001b[39;49m, \u001b[39m30\u001b[39;49m, ())\n",
      "Cell \u001b[0;32mIn [29], line 62\u001b[0m, in \u001b[0;36msolve.<locals>.f\u001b[0;34m(valve, time_left, open_valves)\u001b[0m\n\u001b[1;32m     60\u001b[0m   \u001b[39m# 3. move to next valve\u001b[39;00m\n\u001b[1;32m     61\u001b[0m   \u001b[39mfor\u001b[39;00m next_valve \u001b[39min\u001b[39;00m valves[valve][\u001b[39m1\u001b[39m]:\n\u001b[0;32m---> 62\u001b[0m     result\u001b[39m.\u001b[39mappend(f(next_valve, time_left \u001b[39m-\u001b[39;49m \u001b[39m1\u001b[39;49m, open_valves))\n\u001b[1;32m     63\u001b[0m   mem[key] \u001b[39m=\u001b[39m \u001b[39mmax\u001b[39m(result, key\u001b[39m=\u001b[39m\u001b[39mlambda\u001b[39;00m open_valves: pressure(open_valves))\n\u001b[1;32m     65\u001b[0m \u001b[39mreturn\u001b[39;00m mem[key]\n",
      "Cell \u001b[0;32mIn [29], line 59\u001b[0m, in \u001b[0;36msolve.<locals>.f\u001b[0;34m(valve, time_left, open_valves)\u001b[0m\n\u001b[1;32m     57\u001b[0m \u001b[39m# 2. open valve\u001b[39;00m\n\u001b[1;32m     58\u001b[0m \u001b[39mif\u001b[39;00m valves[valve][\u001b[39m0\u001b[39m] \u001b[39m>\u001b[39m \u001b[39m0\u001b[39m \u001b[39mand\u001b[39;00m valve \u001b[39mnot\u001b[39;00m \u001b[39min\u001b[39;00m seconds(open_valves):\n\u001b[0;32m---> 59\u001b[0m   result\u001b[39m.\u001b[39mappend(f(valve, time_left \u001b[39m-\u001b[39;49m \u001b[39m1\u001b[39;49m, \u001b[39mtuple\u001b[39;49m(\u001b[39msorted\u001b[39;49m(open_valves \u001b[39m+\u001b[39;49m ((time_left, valve),)))))\n\u001b[1;32m     60\u001b[0m \u001b[39m# 3. move to next valve\u001b[39;00m\n\u001b[1;32m     61\u001b[0m \u001b[39mfor\u001b[39;00m next_valve \u001b[39min\u001b[39;00m valves[valve][\u001b[39m1\u001b[39m]:\n",
      "Cell \u001b[0;32mIn [29], line 62\u001b[0m, in \u001b[0;36msolve.<locals>.f\u001b[0;34m(valve, time_left, open_valves)\u001b[0m\n\u001b[1;32m     60\u001b[0m   \u001b[39m# 3. move to next valve\u001b[39;00m\n\u001b[1;32m     61\u001b[0m   \u001b[39mfor\u001b[39;00m next_valve \u001b[39min\u001b[39;00m valves[valve][\u001b[39m1\u001b[39m]:\n\u001b[0;32m---> 62\u001b[0m     result\u001b[39m.\u001b[39mappend(f(next_valve, time_left \u001b[39m-\u001b[39;49m \u001b[39m1\u001b[39;49m, open_valves))\n\u001b[1;32m     63\u001b[0m   mem[key] \u001b[39m=\u001b[39m \u001b[39mmax\u001b[39m(result, key\u001b[39m=\u001b[39m\u001b[39mlambda\u001b[39;00m open_valves: pressure(open_valves))\n\u001b[1;32m     65\u001b[0m \u001b[39mreturn\u001b[39;00m mem[key]\n",
      "Cell \u001b[0;32mIn [29], line 59\u001b[0m, in \u001b[0;36msolve.<locals>.f\u001b[0;34m(valve, time_left, open_valves)\u001b[0m\n\u001b[1;32m     57\u001b[0m \u001b[39m# 2. open valve\u001b[39;00m\n\u001b[1;32m     58\u001b[0m \u001b[39mif\u001b[39;00m valves[valve][\u001b[39m0\u001b[39m] \u001b[39m>\u001b[39m \u001b[39m0\u001b[39m \u001b[39mand\u001b[39;00m valve \u001b[39mnot\u001b[39;00m \u001b[39min\u001b[39;00m seconds(open_valves):\n\u001b[0;32m---> 59\u001b[0m   result\u001b[39m.\u001b[39mappend(f(valve, time_left \u001b[39m-\u001b[39;49m \u001b[39m1\u001b[39;49m, \u001b[39mtuple\u001b[39;49m(\u001b[39msorted\u001b[39;49m(open_valves \u001b[39m+\u001b[39;49m ((time_left, valve),)))))\n\u001b[1;32m     60\u001b[0m \u001b[39m# 3. move to next valve\u001b[39;00m\n\u001b[1;32m     61\u001b[0m \u001b[39mfor\u001b[39;00m next_valve \u001b[39min\u001b[39;00m valves[valve][\u001b[39m1\u001b[39m]:\n",
      "    \u001b[0;31m[... skipping similar frames: solve.<locals>.f at line 62 (9 times), solve.<locals>.f at line 59 (2 times)]\u001b[0m\n",
      "Cell \u001b[0;32mIn [29], line 59\u001b[0m, in \u001b[0;36msolve.<locals>.f\u001b[0;34m(valve, time_left, open_valves)\u001b[0m\n\u001b[1;32m     57\u001b[0m \u001b[39m# 2. open valve\u001b[39;00m\n\u001b[1;32m     58\u001b[0m \u001b[39mif\u001b[39;00m valves[valve][\u001b[39m0\u001b[39m] \u001b[39m>\u001b[39m \u001b[39m0\u001b[39m \u001b[39mand\u001b[39;00m valve \u001b[39mnot\u001b[39;00m \u001b[39min\u001b[39;00m seconds(open_valves):\n\u001b[0;32m---> 59\u001b[0m   result\u001b[39m.\u001b[39mappend(f(valve, time_left \u001b[39m-\u001b[39;49m \u001b[39m1\u001b[39;49m, \u001b[39mtuple\u001b[39;49m(\u001b[39msorted\u001b[39;49m(open_valves \u001b[39m+\u001b[39;49m ((time_left, valve),)))))\n\u001b[1;32m     60\u001b[0m \u001b[39m# 3. move to next valve\u001b[39;00m\n\u001b[1;32m     61\u001b[0m \u001b[39mfor\u001b[39;00m next_valve \u001b[39min\u001b[39;00m valves[valve][\u001b[39m1\u001b[39m]:\n",
      "    \u001b[0;31m[... skipping similar frames: solve.<locals>.f at line 62 (2 times)]\u001b[0m\n",
      "Cell \u001b[0;32mIn [29], line 62\u001b[0m, in \u001b[0;36msolve.<locals>.f\u001b[0;34m(valve, time_left, open_valves)\u001b[0m\n\u001b[1;32m     60\u001b[0m   \u001b[39m# 3. move to next valve\u001b[39;00m\n\u001b[1;32m     61\u001b[0m   \u001b[39mfor\u001b[39;00m next_valve \u001b[39min\u001b[39;00m valves[valve][\u001b[39m1\u001b[39m]:\n\u001b[0;32m---> 62\u001b[0m     result\u001b[39m.\u001b[39mappend(f(next_valve, time_left \u001b[39m-\u001b[39;49m \u001b[39m1\u001b[39;49m, open_valves))\n\u001b[1;32m     63\u001b[0m   mem[key] \u001b[39m=\u001b[39m \u001b[39mmax\u001b[39m(result, key\u001b[39m=\u001b[39m\u001b[39mlambda\u001b[39;00m open_valves: pressure(open_valves))\n\u001b[1;32m     65\u001b[0m \u001b[39mreturn\u001b[39;00m mem[key]\n",
      "Cell \u001b[0;32mIn [29], line 48\u001b[0m, in \u001b[0;36msolve.<locals>.f\u001b[0;34m(valve, time_left, open_valves)\u001b[0m\n\u001b[1;32m     46\u001b[0m \u001b[39mif\u001b[39;00m time_left \u001b[39m==\u001b[39m \u001b[39m0\u001b[39m:\n\u001b[1;32m     47\u001b[0m   \u001b[39mreturn\u001b[39;00m open_valves\n\u001b[0;32m---> 48\u001b[0m \u001b[39melif\u001b[39;00m \u001b[39mall\u001b[39;49m(valves[valve][\u001b[39m0\u001b[39;49m] \u001b[39m==\u001b[39;49m \u001b[39m0\u001b[39;49m \u001b[39mor\u001b[39;49;00m valve \u001b[39min\u001b[39;49;00m seconds(open_valves) \u001b[39mfor\u001b[39;49;00m valve \u001b[39min\u001b[39;49;00m valves):\n\u001b[1;32m     49\u001b[0m   \u001b[39mreturn\u001b[39;00m open_valves\n\u001b[1;32m     51\u001b[0m key \u001b[39m=\u001b[39m (valve, time_left, \u001b[39mtuple\u001b[39m(seconds(open_valves)))\n",
      "Cell \u001b[0;32mIn [29], line 48\u001b[0m, in \u001b[0;36m<genexpr>\u001b[0;34m(.0)\u001b[0m\n\u001b[1;32m     46\u001b[0m \u001b[39mif\u001b[39;00m time_left \u001b[39m==\u001b[39m \u001b[39m0\u001b[39m:\n\u001b[1;32m     47\u001b[0m   \u001b[39mreturn\u001b[39;00m open_valves\n\u001b[0;32m---> 48\u001b[0m \u001b[39melif\u001b[39;00m \u001b[39mall\u001b[39m(valves[valve][\u001b[39m0\u001b[39m] \u001b[39m==\u001b[39m \u001b[39m0\u001b[39m \u001b[39mor\u001b[39;00m valve \u001b[39min\u001b[39;49;00m seconds(open_valves) \u001b[39mfor\u001b[39;00m valve \u001b[39min\u001b[39;00m valves):\n\u001b[1;32m     49\u001b[0m   \u001b[39mreturn\u001b[39;00m open_valves\n\u001b[1;32m     51\u001b[0m key \u001b[39m=\u001b[39m (valve, time_left, \u001b[39mtuple\u001b[39m(seconds(open_valves)))\n",
      "Cell \u001b[0;32mIn [29], line 31\u001b[0m, in \u001b[0;36m<genexpr>\u001b[0;34m(.0)\u001b[0m\n\u001b[1;32m     30\u001b[0m \u001b[39mdef\u001b[39;00m \u001b[39mseconds\u001b[39m(it):\n\u001b[0;32m---> 31\u001b[0m   \u001b[39mreturn\u001b[39;00m (e \u001b[39mfor\u001b[39;00m (_, e) \u001b[39min\u001b[39;00m it)\n",
      "File \u001b[0;32m_pydevd_bundle/pydevd_cython.pyx:1363\u001b[0m, in \u001b[0;36m_pydevd_bundle.pydevd_cython.SafeCallWrapper.__call__\u001b[0;34m()\u001b[0m\n",
      "File \u001b[0;32m_pydevd_bundle/pydevd_cython.pyx:1712\u001b[0m, in \u001b[0;36m_pydevd_bundle.pydevd_cython.ThreadTracer.__call__\u001b[0;34m()\u001b[0m\n",
      "File \u001b[0;32m/opt/conda/lib/python3.9/site-packages/debugpy/_vendored/pydevd/pydevd.py:1259\u001b[0m, in \u001b[0;36mPyDB.apply_files_filter\u001b[0;34m(self, frame, original_filename, force_check_project_scope)\u001b[0m\n\u001b[1;32m   1257\u001b[0m cache_key \u001b[39m=\u001b[39m (frame\u001b[39m.\u001b[39mf_code\u001b[39m.\u001b[39mco_firstlineno, original_filename, force_check_project_scope, frame\u001b[39m.\u001b[39mf_code)\n\u001b[1;32m   1258\u001b[0m \u001b[39mtry\u001b[39;00m:\n\u001b[0;32m-> 1259\u001b[0m     \u001b[39mreturn\u001b[39;00m \u001b[39mself\u001b[39;49m\u001b[39m.\u001b[39;49m_apply_filter_cache[cache_key]\n\u001b[1;32m   1260\u001b[0m \u001b[39mexcept\u001b[39;00m \u001b[39mKeyError\u001b[39;00m:\n\u001b[1;32m   1261\u001b[0m     \u001b[39mif\u001b[39;00m \u001b[39mself\u001b[39m\u001b[39m.\u001b[39mplugin \u001b[39mis\u001b[39;00m \u001b[39mnot\u001b[39;00m \u001b[39mNone\u001b[39;00m \u001b[39mand\u001b[39;00m (\u001b[39mself\u001b[39m\u001b[39m.\u001b[39mhas_plugin_line_breaks \u001b[39mor\u001b[39;00m \u001b[39mself\u001b[39m\u001b[39m.\u001b[39mhas_plugin_exception_breaks):\n\u001b[1;32m   1262\u001b[0m         \u001b[39m# If it's explicitly needed by some plugin, we can't skip it.\u001b[39;00m\n",
      "\u001b[0;31mKeyboardInterrupt\u001b[0m: "
     ]
    }
   ],
   "source": [
    "# def solve(input):\n",
    "#   valves = parse(input)\n",
    "#   mem = dict()\n",
    "\n",
    "#   def f(valve, total_pressure, time_left, open_valves):\n",
    "#     if time_left == 0:\n",
    "#       return 0\n",
    "#     elif all(valves[valve][0] == 0 or valve in open_valves for valve in valves):\n",
    "#       return total_pressure * time_left\n",
    "\n",
    "#     key = (valve, total_pressure, time_left, tuple(open_valves))\n",
    "\n",
    "#     if key not in mem:\n",
    "#       result = []\n",
    "#       # 1. do nothing\n",
    "#       result.append(f(valve, total_pressure, time_left - 1, open_valves))\n",
    "#       # 2. open valve\n",
    "#       if valves[valve][0] > 0 and valve not in open_valves:\n",
    "#         result.append(f(valve, valves[valve][0] + total_pressure, time_left - 1, sorted(open_valves + [valve])))\n",
    "#       # 3. move to next valve\n",
    "#       for next_valve in valves[valve][1]:\n",
    "#         result.append(f(next_valve, total_pressure, time_left - 1, open_valves))\n",
    "      \n",
    "#       mem[key] = max(result) + total_pressure\n",
    "\n",
    "#     return mem[key]\n",
    "  \n",
    "#   return f('AA', 0, 30, [])\n",
    "\n",
    "def seconds(it):\n",
    "  return (e for (_, e) in it)\n",
    "\n",
    "\n",
    "def solve(input):\n",
    "  valves = parse(input)\n",
    "  mem = dict()\n",
    "\n",
    "  mem2 = dict()\n",
    "  def pressure(open_valves):\n",
    "    key = open_valves\n",
    "    if key not in mem2:\n",
    "      mem2[key] = sum(valves[valve][0] * time_left for (time_left, valve) in open_valves)\n",
    "    return mem2[key]\n",
    "\n",
    "  def f(valve, time_left, open_valves):\n",
    "    if time_left == 0:\n",
    "      return open_valves\n",
    "    elif all(valves[valve][0] == 0 or valve in seconds(open_valves) for valve in valves):\n",
    "      return open_valves\n",
    "    \n",
    "    key = (valve, time_left, tuple(seconds(open_valves)))\n",
    "\n",
    "    if key not in mem:\n",
    "      result = []\n",
    "      # 1. do nothing\n",
    "      result.append(f(valve, time_left - 1, open_valves))\n",
    "      # 2. open valve\n",
    "      if valves[valve][0] > 0 and valve not in seconds(open_valves):\n",
    "        result.append(f(valve, time_left - 1, tuple(sorted(open_valves + ((time_left, valve),)))))\n",
    "      # 3. move to next valve\n",
    "      for next_valve in valves[valve][1]:\n",
    "        result.append(f(next_valve, time_left - 1, open_valves))\n",
    "      mem[key] = max(result, key=lambda open_valves: pressure(open_valves))\n",
    "\n",
    "    return mem[key]\n",
    "  \n",
    "  return f('AA', 30, ())\n",
    "\n",
    "assert solve(sample) == 1651\n",
    "# solve(input)"
   ]
  },
  {
   "cell_type": "code",
   "execution_count": 22,
   "metadata": {},
   "outputs": [
    {
     "name": "stdout",
     "output_type": "stream",
     "text": [
      "[(set(), 0), (set(), 0), (set(), 0), (set(), 0), ({'DD'}, 0), (set(), 0), (set(), 0), (set(), 0), ({'BB'}, 0), ({'DD'}, 0), ({'DD'}, 0), ({'DD'}, 0), ({'CC'}, 0), ({'EE'}, 0), (set(), 0), ({'JJ'}, 0), ({'BB'}, 0), ({'BB'}, 0), ({'DD', 'CC'}, 0), ({'DD'}, 0), ({'DD'}, 0), ({'EE', 'DD'}, 0), ({'DD'}, 0), ({'CC'}, 0), ({'CC'}, 0), ({'EE'}, 0), ({'EE'}, 0), (set(), 0), ({'JJ'}, 0), ({'BB', 'CC'}, 0), ({'BB'}, 0), ({'BB'}, 0), ({'DD', 'CC'}, 0), ({'DD', 'CC'}, 0), ({'BB', 'DD'}, 0), ({'DD'}, 0), ({'EE', 'DD'}, 0), ({'EE', 'DD'}, 0), ({'DD'}, 0), ({'CC'}, 0), ({'CC'}, 0), ({'BB', 'CC'}, 0), ({'EE'}, 0), ({'EE'}, 0), ({'EE'}, 0), (set(), 0), ({'JJ'}, 0), ({'BB', 'CC'}, 0), ({'BB', 'DD'}, 0), ({'BB'}, 0), ({'BB'}, 0), ({'DD', 'CC'}, 0), ({'DD', 'CC'}, 0), ({'DD', 'BB', 'CC'}, 0), ({'BB', 'DD'}, 0), ({'BB', 'DD'}, 0), ({'JJ', 'DD'}, 0), ({'EE', 'DD'}, 0), ({'EE', 'DD'}, 0), ({'EE', 'DD'}, 0), ({'DD'}, 0), ({'CC'}, 0), ({'EE', 'CC'}, 0), ({'CC'}, 0), ({'BB', 'CC'}, 0), ({'EE'}, 0), ({'EE', 'CC'}, 0), ({'EE'}, 0), ({'EE'}, 0), ({'HH'}, 0), ({'JJ'}, 0), ({'JJ'}, 0), ({'DD', 'BB', 'CC'}, 0), ({'BB', 'CC'}, 0), ({'BB', 'DD'}, 0), ({'BB', 'EE'}, 0), ({'BB'}, 0), ({'JJ', 'BB'}, 0), ({'DD', 'CC'}, 0), ({'DD', 'EE', 'CC'}, 0), ({'DD', 'CC'}, 0), ({'DD', 'BB', 'CC'}, 0), ({'DD', 'BB', 'CC'}, 0), ({'BB', 'DD'}, 0), ({'JJ', 'DD'}, 0), ({'EE', 'DD'}, 0), ({'DD', 'EE', 'CC'}, 0), ({'EE', 'DD'}, 0), ({'EE', 'DD'}, 0), ({'HH', 'DD'}, 0), ({'CC'}, 0), ({'EE', 'CC'}, 0), ({'EE', 'CC'}, 0), ({'CC'}, 0), ({'BB', 'CC'}, 0), ({'HH', 'EE'}, 0), ({'EE', 'CC'}, 0), ({'BB', 'EE'}, 0), ({'EE'}, 0), ({'HH'}, 0), ({'JJ', 'DD'}, 0), ({'JJ'}, 0), ({'JJ'}, 0), ({'JJ', 'BB'}, 0), ({'DD', 'BB', 'CC'}, 0), ({'BB', 'CC', 'EE'}, 0), ({'BB', 'CC'}, 0), ({'BB', 'DD', 'EE'}, 0), ({'BB', 'DD'}, 0), ({'BB', 'EE'}, 0), ({'BB', 'EE'}, 0), ({'BB'}, 0), ({'JJ', 'BB'}, 0), ({'DD', 'CC'}, 0), ({'DD', 'EE', 'CC'}, 0), ({'DD', 'EE', 'CC'}, 0), ({'DD', 'CC'}, 0), ({'DD', 'BB', 'CC'}, 0), ({'BB', 'DD'}, 0), ({'JJ', 'DD'}, 0), ({'HH', 'EE', 'DD'}, 0), ({'DD', 'EE', 'CC'}, 0), ({'BB', 'DD', 'EE'}, 0), ({'EE', 'DD'}, 0), ({'HH', 'DD'}, 0), ({'JJ', 'CC'}, 0), ({'EE', 'CC'}, 0), ({'EE', 'CC'}, 0), ({'CC'}, 0), ({'BB', 'CC'}, 0), ({'HH', 'EE'}, 0), ({'BB', 'CC', 'EE'}, 0), ({'BB', 'EE'}, 0), ({'BB', 'EE'}, 0), ({'JJ', 'EE'}, 0), ({'HH'}, 0), ({'JJ', 'DD'}, 0), ({'JJ', 'DD'}, 0), ({'JJ', 'CC'}, 0), ({'JJ', 'EE'}, 0), ({'JJ'}, 0), ({'JJ', 'BB'}, 0), ({'JJ', 'BB'}, 0), ({'DD', 'BB', 'CC', 'EE'}, 0), ({'DD', 'BB', 'CC'}, 0), ({'BB', 'CC', 'EE'}, 0), ({'BB', 'CC', 'EE'}, 0), ({'BB', 'CC'}, 0), ({'BB', 'DD', 'EE'}, 0), ({'BB', 'DD', 'EE'}, 0), ({'BB', 'DD'}, 0), ({'BB', 'EE'}, 0), ({'BB'}, 0), ({'DD', 'JJ', 'CC'}, 0), ({'DD', 'EE', 'CC'}, 0), ({'DD', 'EE', 'CC'}, 0), ({'DD', 'CC'}, 0), ({'DD', 'BB', 'CC'}, 0), ({'JJ', 'BB', 'DD'}, 0), ({'JJ', 'DD'}, 0), ({'HH', 'EE', 'DD'}, 0), ({'DD', 'BB', 'CC', 'EE'}, 0), ({'BB', 'DD', 'EE'}, 0), ({'BB', 'DD', 'EE'}, 0), ({'JJ', 'EE', 'DD'}, 0), ({'HH', 'DD'}, 0), ({'JJ', 'CC'}, 0), ({'EE', 'CC'}, 0), ({'EE', 'CC'}, 0), ({'HH', 'CC'}, 0), ({'JJ', 'BB', 'CC'}, 0), ({'HH', 'EE'}, 0), ({'BB', 'CC', 'EE'}, 0), ({'BB', 'CC', 'EE'}, 0), ({'BB', 'EE'}, 0), ({'JJ', 'EE'}, 0), ({'HH'}, 0), ({'DD', 'JJ', 'CC'}, 0), ({'JJ', 'EE', 'DD'}, 0), ({'JJ', 'DD'}, 0), ({'JJ', 'CC'}, 0), ({'JJ', 'CC'}, 0), ({'JJ', 'EE'}, 0), ({'JJ', 'EE'}, 0), ({'JJ'}, 0), ({'JJ', 'BB', 'CC'}, 0), ({'JJ', 'BB'}, 0), ({'DD', 'BB', 'CC', 'EE'}, 0), ({'DD', 'BB', 'CC', 'EE'}, 0), ({'DD', 'BB', 'CC'}, 0), ({'BB', 'CC', 'EE'}, 0), ({'BB', 'CC'}, 0), ({'BB', 'DD', 'EE'}, 0), ({'BB', 'DD'}, 0), ({'BB', 'EE'}, 0), ({'HH', 'BB'}, 0), ({'DD', 'JJ', 'CC'}, 0), ({'DD', 'EE', 'CC'}, 0), ({'DD', 'EE', 'CC'}, 0), ({'DD', 'CC', 'HH'}, 0), ({'DD', 'JJ', 'BB', 'CC'}, 0), ({'JJ', 'BB', 'DD'}, 0), ({'JJ', 'BB', 'DD'}, 0), ({'HH', 'EE', 'DD'}, 0), ({'DD', 'BB', 'CC', 'EE'}, 0), ({'DD', 'BB', 'CC', 'EE'}, 0), ({'BB', 'DD', 'EE'}, 0), ({'JJ', 'EE', 'DD'}, 0), ({'HH', 'DD'}, 0), ({'JJ', 'CC'}, 0), ({'HH', 'EE', 'CC'}, 0), ({'EE', 'CC'}, 0), ({'HH', 'CC'}, 0), ({'JJ', 'BB', 'CC'}, 0), ({'HH', 'EE'}, 0), ({'BB', 'CC', 'EE'}, 0), ({'BB', 'EE'}, 0), ({'JJ', 'EE'}, 0), ({'HH'}, 0), ({'DD', 'JJ', 'CC'}, 0), ({'DD', 'JJ', 'CC'}, 0), ({'JJ', 'EE', 'DD'}, 0), ({'JJ', 'EE', 'DD'}, 0), ({'JJ', 'DD'}, 0), ({'JJ', 'CC'}, 0), ({'JJ', 'BB', 'CC'}, 0), ({'JJ', 'EE'}, 0), ({'JJ', 'EE'}, 0), ({'JJ'}, 0), ({'JJ', 'BB', 'CC'}, 0), ({'JJ', 'BB', 'DD'}, 0), ({'JJ', 'BB'}, 0), ({'DD', 'BB', 'CC', 'EE'}, 0), ({'DD', 'BB', 'CC'}, 0), ({'BB', 'CC', 'EE'}, 0), ({'HH', 'BB', 'CC'}, 0), ({'BB', 'DD', 'EE'}, 0), ({'HH', 'BB', 'DD'}, 0), ({'HH', 'BB', 'EE'}, 0), ({'HH', 'BB'}, 0), ({'DD', 'JJ', 'CC'}, 0), ({'DD', 'EE', 'CC', 'HH'}, 0), ({'DD', 'EE', 'CC'}, 0), ({'DD', 'CC', 'HH'}, 0), ({'DD', 'JJ', 'BB', 'CC'}, 0), ({'JJ', 'BB', 'DD'}, 0), ({'JJ', 'BB', 'DD'}, 0), ({'HH', 'EE', 'DD'}, 0), ({'DD', 'BB', 'CC', 'EE'}, 0), ({'BB', 'DD', 'EE'}, 0), ({'JJ', 'EE', 'DD'}, 0), ({'HH', 'DD'}, 0), ({'HH', 'EE', 'CC'}, 0), ({'JJ', 'EE', 'CC'}, 0), ({'HH', 'CC'}, 0), ({'JJ', 'BB', 'CC'}, 0), ({'HH', 'EE'}, 0), ({'BB', 'CC', 'EE'}, 0), ({'JJ', 'BB', 'EE'}, 0), ({'JJ', 'EE'}, 0), ({'HH'}, 0), ({'HH'}, 0), ({'DD', 'JJ', 'CC'}, 0), ({'DD', 'JJ', 'BB', 'CC'}, 0), ({'JJ', 'EE', 'DD'}, 0), ({'JJ', 'EE', 'DD'}, 0), ({'JJ', 'DD'}, 0), ({'JJ', 'EE', 'CC'}, 0), ({'JJ', 'CC'}, 0), ({'JJ', 'EE'}, 0), ({'JJ', 'EE', 'CC'}, 0), ({'HH', 'JJ'}, 0), ({'DD', 'JJ', 'BB', 'CC'}, 0), ({'JJ', 'BB', 'CC'}, 0), ({'JJ', 'BB', 'DD'}, 0), ({'JJ', 'BB', 'EE'}, 0), ({'JJ', 'BB'}, 0), ({'DD', 'BB', 'CC', 'EE'}, 0), ({'DD', 'BB', 'CC', 'HH'}, 0), ({'HH', 'BB', 'CC', 'EE'}, 0), ({'HH', 'BB', 'CC'}, 0), ({'HH', 'BB', 'DD', 'EE'}, 0), ({'HH', 'BB', 'DD'}, 0), ({'HH', 'BB', 'EE'}, 0), ({'HH', 'BB'}, 0), ({'DD', 'EE', 'CC', 'HH'}, 0), ({'DD', 'JJ', 'EE', 'CC'}, 0), ({'DD', 'CC', 'HH'}, 0), ({'DD', 'JJ', 'BB', 'CC'}, 0), ({'DD', 'JJ', 'BB', 'CC'}, 0), ({'HH', 'EE', 'DD'}, 0), ({'DD', 'BB', 'CC', 'EE'}, 0), ({'JJ', 'BB', 'DD', 'EE'}, 0), ({'JJ', 'EE', 'DD'}, 0), ({'HH', 'DD'}, 0), ({'HH', 'DD'}, 0), ({'HH', 'EE', 'CC'}, 0), ({'JJ', 'EE', 'CC'}, 0), ({'HH', 'CC'}, 0), ({'HH', 'EE'}, 0), ({'HH', 'EE'}, 0), ({'JJ', 'BB', 'CC', 'EE'}, 0), ({'JJ', 'BB', 'EE'}, 0), ({'JJ', 'BB', 'EE'}, 0), ({'HH', 'CC'}, 0), ({'HH'}, 0), ({'HH'}, 0), ({'DD', 'JJ', 'EE', 'CC'}, 0), ({'DD', 'JJ', 'CC'}, 0), ({'JJ', 'EE', 'DD'}, 0), ({'DD', 'JJ', 'EE', 'CC'}, 0), ({'HH', 'JJ', 'DD'}, 0), ({'JJ', 'EE', 'CC'}, 0), ({'JJ', 'EE', 'CC'}, 0), ({'JJ', 'CC'}, 0), ({'HH', 'JJ', 'EE'}, 0), ({'JJ', 'EE', 'CC'}, 0), ({'HH', 'JJ'}, 0), ({'DD', 'JJ', 'BB', 'CC'}, 0), ({'JJ', 'BB', 'CC', 'EE'}, 0), ({'JJ', 'BB', 'CC'}, 0), ({'JJ', 'BB', 'DD', 'EE'}, 0), ({'JJ', 'BB', 'DD'}, 0), ({'JJ', 'BB', 'EE'}, 0), ({'JJ', 'BB', 'EE'}, 0), ({'JJ', 'BB'}, 0), ({'BB', 'DD', 'CC', 'HH', 'EE'}, 0), ({'DD', 'BB', 'CC', 'HH'}, 0), ({'HH', 'BB', 'CC', 'EE'}, 0), ({'HH', 'BB', 'CC'}, 0), ({'HH', 'BB', 'DD', 'EE'}, 0), ({'HH', 'BB', 'DD'}, 0), ({'HH', 'BB', 'EE'}, 0), ({'HH', 'BB'}, 0), ({'DD', 'EE', 'CC', 'HH'}, 0), ({'DD', 'JJ', 'EE', 'CC'}, 0), ({'DD', 'CC', 'HH'}, 0), ({'HH', 'EE', 'DD'}, 0), ({'HH', 'EE', 'DD'}, 0), ({'BB', 'DD', 'CC', 'JJ', 'EE'}, 0), ({'JJ', 'BB', 'DD', 'EE'}, 0), ({'JJ', 'BB', 'DD', 'EE'}, 0), ({'DD', 'CC', 'HH'}, 0), ({'HH', 'DD'}, 0), ({'HH', 'DD'}, 0), ({'HH', 'EE', 'CC'}, 0), ({'JJ', 'EE', 'CC'}, 0), ({'HH', 'CC'}, 0), ({'HH', 'EE', 'CC'}, 0), ({'HH', 'EE'}, 0), ({'HH', 'EE'}, 0), ({'JJ', 'BB', 'CC', 'EE'}, 0), ({'JJ', 'BB', 'EE'}, 0), ({'JJ', 'BB', 'EE'}, 0), ({'HH', 'CC'}, 0), ({'HH', 'BB'}, 0), ({'HH'}, 0), ({'DD', 'JJ', 'EE', 'CC'}, 0), ({'DD', 'JJ', 'EE', 'CC'}, 0), ({'DD', 'JJ', 'CC'}, 0), ({'HH', 'JJ', 'EE', 'DD'}, 0), ({'DD', 'JJ', 'EE', 'CC'}, 0), ({'HH', 'JJ', 'DD'}, 0), ({'JJ', 'EE', 'CC'}, 0), ({'JJ', 'CC'}, 0), ({'HH', 'JJ', 'EE'}, 0), ({'JJ', 'BB', 'CC', 'EE'}, 0), ({'HH', 'JJ'}, 0), ({'BB', 'DD', 'CC', 'JJ', 'EE'}, 0), ({'DD', 'JJ', 'BB', 'CC'}, 0), ({'JJ', 'BB', 'CC', 'EE'}, 0), ({'JJ', 'BB', 'CC', 'EE'}, 0), ({'JJ', 'BB', 'CC'}, 0), ({'JJ', 'BB', 'DD', 'EE'}, 0), ({'JJ', 'BB', 'DD', 'EE'}, 0), ({'JJ', 'BB', 'DD'}, 0), ({'JJ', 'BB', 'EE'}, 0), ({'JJ', 'BB'}, 0), ({'BB', 'DD', 'CC', 'HH', 'EE'}, 0), ({'DD', 'BB', 'CC', 'HH'}, 0), ({'HH', 'BB', 'CC', 'EE'}, 0), ({'HH', 'BB', 'CC'}, 0), ({'HH', 'BB', 'DD', 'EE'}, 0), ({'HH', 'BB', 'DD'}, 0), ({'HH', 'BB', 'EE'}, 0), ({'HH', 'BB'}, 0), ({'DD', 'EE', 'CC', 'HH'}, 0), ({'DD', 'JJ', 'EE', 'CC'}, 0), ({'DD', 'CC', 'HH'}, 0), ({'DD', 'EE', 'CC', 'HH'}, 0), ({'HH', 'EE', 'DD'}, 0), ({'HH', 'EE', 'DD'}, 0), ({'BB', 'DD', 'CC', 'JJ', 'EE'}, 0), ({'JJ', 'BB', 'DD', 'EE'}, 0), ({'JJ', 'BB', 'DD', 'EE'}, 0), ({'DD', 'CC', 'HH'}, 0), ({'HH', 'BB', 'DD'}, 0), ({'HH', 'DD'}, 0), ({'HH', 'EE', 'CC'}, 0), ({'HH', 'CC'}, 0), ({'HH', 'EE', 'CC'}, 0), ({'HH', 'BB', 'EE'}, 0), ({'HH', 'EE'}, 0), ({'JJ', 'BB', 'CC', 'EE'}, 0), ({'JJ', 'BB', 'CC', 'EE'}, 0), ({'HH', 'BB', 'CC'}, 0), ({'HH', 'BB'}, 0), ({'HH', 'BB'}, 0), ({'HH', 'JJ'}, 0), ({'DD', 'JJ', 'EE', 'CC'}, 0), ({'DD', 'JJ', 'CC'}, 0), ({'HH', 'JJ', 'EE', 'DD'}, 0), ({'BB', 'DD', 'CC', 'JJ', 'EE'}, 0), ({'HH', 'JJ', 'DD'}, 0), ({'JJ', 'EE', 'CC'}, 0), ({'HH', 'JJ', 'CC'}, 0), ({'HH', 'JJ', 'EE'}, 0), ({'HH', 'JJ'}, 0), ({'BB', 'DD', 'CC', 'JJ', 'EE'}, 0), ({'BB', 'DD', 'CC', 'JJ', 'EE'}, 0), ({'DD', 'JJ', 'BB', 'CC'}, 0), ({'JJ', 'BB', 'CC', 'EE'}, 0), ({'JJ', 'BB', 'CC'}, 0), ({'JJ', 'BB', 'DD', 'EE'}, 0), ({'JJ', 'BB', 'DD'}, 0), ({'JJ', 'BB', 'EE'}, 0), ({'HH', 'JJ', 'BB'}, 0), ({'BB', 'DD', 'CC', 'HH', 'EE'}, 0), ({'DD', 'BB', 'CC', 'HH'}, 0), ({'HH', 'BB', 'CC', 'EE'}, 0), ({'HH', 'BB', 'CC'}, 0), ({'HH', 'BB', 'DD', 'EE'}, 0), ({'HH', 'BB', 'DD'}, 0), ({'HH', 'BB', 'EE'}, 0), ({'DD', 'EE', 'CC', 'HH'}, 0), ({'DD', 'CC', 'HH'}, 0), ({'DD', 'EE', 'CC', 'HH'}, 0), ({'HH', 'BB', 'DD', 'EE'}, 0), ({'HH', 'EE', 'DD'}, 0), ({'BB', 'DD', 'CC', 'JJ', 'EE'}, 0), ({'BB', 'DD', 'CC', 'JJ', 'EE'}, 0), ({'DD', 'BB', 'CC', 'HH'}, 0), ({'HH', 'BB', 'DD'}, 0), ({'HH', 'BB', 'DD'}, 0), ({'HH', 'JJ', 'DD'}, 0), ({'HH', 'EE', 'CC'}, 0), ({'HH', 'CC'}, 0), ({'HH', 'BB', 'CC', 'EE'}, 0), ({'HH', 'BB', 'EE'}, 0), ({'HH', 'BB', 'EE'}, 0), ({'HH', 'JJ', 'EE'}, 0), ({'HH', 'BB', 'CC'}, 0), ({'HH', 'BB', 'CC'}, 0), ({'HH', 'BB'}, 0), ({'HH', 'JJ'}, 0), ({'DD', 'JJ', 'EE', 'CC'}, 0), ({'DD', 'JJ', 'CC', 'HH'}, 0), ({'HH', 'JJ', 'EE', 'DD'}, 0), ({'HH', 'JJ', 'DD'}, 0), ({'HH', 'JJ', 'EE', 'CC'}, 0), ({'HH', 'JJ', 'CC'}, 0), ({'HH', 'JJ', 'EE'}, 0), ({'HH', 'JJ'}, 0), ({'BB', 'DD', 'CC', 'JJ', 'EE'}, 0), ({'DD', 'JJ', 'BB', 'CC'}, 0), ({'JJ', 'BB', 'CC', 'EE'}, 0), ({'HH', 'JJ', 'BB', 'CC'}, 0), ({'JJ', 'BB', 'DD', 'EE'}, 0), ({'HH', 'JJ', 'BB', 'DD'}, 0), ({'HH', 'JJ', 'BB', 'EE'}, 0), ({'HH', 'JJ', 'BB'}, 0), ({'BB', 'DD', 'CC', 'HH', 'EE'}, 0), ({'DD', 'BB', 'CC', 'HH'}, 0), ({'HH', 'BB', 'CC', 'EE'}, 0), ({'HH', 'BB', 'DD', 'EE'}, 0), ({'DD', 'EE', 'CC', 'HH'}, 0), ({'DD', 'CC', 'HH'}, 0), ({'BB', 'DD', 'CC', 'HH', 'EE'}, 0), ({'HH', 'BB', 'DD', 'EE'}, 0), ({'HH', 'BB', 'DD', 'EE'}, 0), ({'HH', 'JJ', 'EE', 'DD'}, 0), ({'DD', 'BB', 'CC', 'HH'}, 0), ({'DD', 'BB', 'CC', 'HH'}, 0), ({'HH', 'BB', 'DD'}, 0), ({'HH', 'JJ', 'DD'}, 0), ({'HH', 'EE', 'CC'}, 0), ({'HH', 'CC'}, 0), ({'HH', 'BB', 'CC', 'EE'}, 0), ({'HH', 'BB', 'CC', 'EE'}, 0), ({'HH', 'BB', 'EE'}, 0), ({'HH', 'JJ', 'EE'}, 0), ({'HH', 'BB', 'CC'}, 0), ({'HH', 'BB'}, 0), ({'HH', 'JJ'}, 0), ({'DD', 'CC', 'JJ', 'HH', 'EE'}, 0), ({'DD', 'JJ', 'CC', 'HH'}, 0), ({'HH', 'JJ', 'EE', 'DD'}, 0), ({'HH', 'JJ', 'DD'}, 0), ({'HH', 'JJ', 'EE', 'CC'}, 0), ({'HH', 'JJ', 'CC'}, 0), ({'HH', 'JJ', 'EE'}, 0), ({'HH', 'JJ'}, 0), ({'BB', 'DD', 'CC', 'JJ', 'EE'}, 0), ({'BB', 'DD', 'CC', 'JJ', 'HH'}, 0), ({'BB', 'CC', 'JJ', 'HH', 'EE'}, 0), ({'HH', 'JJ', 'BB', 'CC'}, 0), ({'BB', 'DD', 'JJ', 'HH', 'EE'}, 0), ({'HH', 'JJ', 'BB', 'DD'}, 0), ({'HH', 'JJ', 'BB', 'EE'}, 0), ({'HH', 'JJ', 'BB'}, 0), ({'BB', 'DD', 'CC', 'HH', 'EE'}, 0), ({'DD', 'EE', 'CC', 'HH'}, 0), ({'DD', 'CC', 'HH'}, 0), ({'BB', 'DD', 'CC', 'HH', 'EE'}, 0), ({'BB', 'DD', 'CC', 'HH', 'EE'}, 0), ({'HH', 'BB', 'DD', 'EE'}, 0), ({'HH', 'JJ', 'EE', 'DD'}, 0), ({'DD', 'BB', 'CC', 'HH'}, 0), ({'HH', 'BB', 'DD'}, 0), ({'HH', 'JJ', 'DD'}, 0), ({'HH', 'EE', 'CC'}, 0), ({'HH', 'JJ', 'CC'}, 0), ({'HH', 'BB', 'CC', 'EE'}, 0), ({'HH', 'BB', 'EE'}, 0), ({'HH', 'JJ', 'EE'}, 0), ({'HH', 'BB', 'CC'}, 0), ({'HH', 'JJ', 'BB'}, 0), ({'HH', 'JJ'}, 0), ({'DD', 'CC', 'JJ', 'HH', 'EE'}, 0), ({'DD', 'JJ', 'CC', 'HH'}, 0), ({'HH', 'JJ', 'EE', 'DD'}, 0), ({'HH', 'JJ', 'DD'}, 0), ({'HH', 'JJ', 'EE', 'CC'}, 0), ({'HH', 'JJ', 'CC'}, 0), ({'HH', 'JJ', 'EE'}, 0), ({'HH', 'JJ', 'CC'}, 0), ({'BB', 'DD', 'CC', 'JJ', 'HH', 'EE'}, 0), ({'BB', 'DD', 'CC', 'JJ', 'HH'}, 0), ({'BB', 'CC', 'JJ', 'HH', 'EE'}, 0), ({'HH', 'JJ', 'BB', 'CC'}, 0), ({'BB', 'DD', 'JJ', 'HH', 'EE'}, 0), ({'HH', 'JJ', 'BB', 'DD'}, 0), ({'HH', 'JJ', 'BB', 'EE'}, 0), ({'HH', 'JJ', 'BB'}, 0), ({'DD', 'EE', 'CC', 'HH'}, 0), ({'DD', 'JJ', 'CC', 'HH'}, 0), ({'BB', 'DD', 'CC', 'HH', 'EE'}, 0), ({'HH', 'BB', 'DD', 'EE'}, 0), ({'HH', 'JJ', 'EE', 'DD'}, 0), ({'DD', 'BB', 'CC', 'HH'}, 0), ({'HH', 'JJ', 'BB', 'DD'}, 0), ({'HH', 'JJ', 'DD'}, 0), ({'HH', 'JJ', 'EE', 'CC'}, 0), ({'HH', 'JJ', 'CC'}, 0), ({'HH', 'BB', 'CC', 'EE'}, 0), ({'HH', 'JJ', 'BB', 'EE'}, 0), ({'HH', 'JJ', 'EE'}, 0), ({'HH', 'JJ', 'BB', 'CC'}, 0), ({'HH', 'JJ', 'BB'}, 0), ({'HH', 'JJ', 'BB'}, 0), ({'DD', 'CC', 'JJ', 'HH', 'EE'}, 0), ({'DD', 'JJ', 'CC', 'HH'}, 0), ({'HH', 'JJ', 'EE', 'DD'}, 0), ({'DD', 'JJ', 'CC', 'HH'}, 0), ({'HH', 'JJ', 'EE', 'CC'}, 0), ({'HH', 'JJ', 'CC'}, 0), ({'HH', 'JJ', 'EE', 'CC'}, 0), ({'HH', 'JJ', 'CC'}, 0), ({'BB', 'DD', 'CC', 'JJ', 'HH'}, 0), ({'BB', 'CC', 'JJ', 'HH', 'EE'}, 0), ({'HH', 'JJ', 'BB', 'CC'}, 0), ({'BB', 'DD', 'JJ', 'HH', 'EE'}, 0), ({'HH', 'JJ', 'BB', 'DD'}, 0), ({'HH', 'JJ', 'BB', 'EE'}, 0), ({'HH', 'JJ', 'BB'}, 0), ({'DD', 'CC', 'JJ', 'HH', 'EE'}, 0), ({'DD', 'JJ', 'CC', 'HH'}, 0), ({'BB', 'DD', 'CC', 'HH', 'EE'}, 0), ({'BB', 'DD', 'JJ', 'HH', 'EE'}, 0), ({'HH', 'JJ', 'EE', 'DD'}, 0), ({'BB', 'DD', 'CC', 'JJ', 'HH'}, 0), ({'HH', 'JJ', 'BB', 'DD'}, 0), ({'HH', 'JJ', 'BB', 'DD'}, 0), ({'HH', 'JJ', 'EE', 'CC'}, 0), ({'HH', 'JJ', 'CC'}, 0), ({'BB', 'CC', 'JJ', 'HH', 'EE'}, 0), ({'HH', 'JJ', 'BB', 'EE'}, 0), ({'HH', 'JJ', 'BB', 'EE'}, 0), ({'HH', 'JJ', 'BB', 'CC'}, 0), ({'HH', 'JJ', 'BB'}, 0), ({'HH', 'JJ', 'BB'}, 0), ({'DD', 'CC', 'JJ', 'HH', 'EE'}, 0), ({'DD', 'JJ', 'CC', 'HH'}, 0), ({'DD', 'CC', 'JJ', 'HH', 'EE'}, 0), ({'DD', 'JJ', 'CC', 'HH'}, 0), ({'HH', 'JJ', 'EE', 'CC'}, 0), ({'HH', 'JJ', 'EE', 'CC'}, 0), ({'HH', 'JJ', 'BB', 'CC'}, 0), ({'BB', 'DD', 'CC', 'JJ', 'HH'}, 0), ({'BB', 'CC', 'JJ', 'HH', 'EE'}, 0), ({'HH', 'JJ', 'BB', 'CC'}, 0), ({'BB', 'DD', 'JJ', 'HH', 'EE'}, 0), ({'HH', 'JJ', 'BB', 'DD'}, 0), ({'HH', 'JJ', 'BB', 'EE'}, 0), ({'DD', 'CC', 'JJ', 'HH', 'EE'}, 0), ({'DD', 'JJ', 'CC', 'HH'}, 0), ({'BB', 'DD', 'CC', 'JJ', 'HH', 'EE'}, 0), ({'BB', 'DD', 'JJ', 'HH', 'EE'}, 0), ({'BB', 'DD', 'JJ', 'HH', 'EE'}, 0), ({'BB', 'DD', 'CC', 'JJ', 'HH'}, 0), ({'HH', 'JJ', 'BB', 'DD'}, 0), ({'HH', 'JJ', 'BB', 'DD'}, 0), ({'HH', 'JJ', 'EE', 'CC'}, 0), ({'BB', 'CC', 'JJ', 'HH', 'EE'}, 0), ({'HH', 'JJ', 'BB', 'EE'}, 0), ({'HH', 'JJ', 'BB', 'EE'}, 0), ({'HH', 'JJ', 'BB', 'CC'}, 0), ({'HH', 'JJ', 'BB', 'CC'}, 0), ({'DD', 'CC', 'JJ', 'HH', 'EE'}, 0), ({'DD', 'CC', 'JJ', 'HH', 'EE'}, 0), ({'BB', 'DD', 'CC', 'JJ', 'HH'}, 0), ({'BB', 'CC', 'JJ', 'HH', 'EE'}, 0), ({'BB', 'DD', 'CC', 'JJ', 'HH', 'EE'}, 0), ({'BB', 'DD', 'CC', 'JJ', 'HH'}, 0), ({'BB', 'CC', 'JJ', 'HH', 'EE'}, 0), ({'BB', 'DD', 'JJ', 'HH', 'EE'}, 0), ({'DD', 'CC', 'JJ', 'HH', 'EE'}, 0), ({'BB', 'DD', 'JJ', 'HH', 'EE'}, 0), ({'BB', 'DD', 'JJ', 'HH', 'EE'}, 0), ({'BB', 'DD', 'CC', 'JJ', 'HH'}, 0), ({'BB', 'DD', 'CC', 'JJ', 'HH'}, 0), ({'BB', 'CC', 'JJ', 'HH', 'EE'}, 0), ({'BB', 'CC', 'JJ', 'HH', 'EE'}, 0), ({'BB', 'DD', 'CC', 'JJ', 'HH', 'EE'}, 0), ({'BB', 'DD', 'CC', 'JJ', 'HH', 'EE'}, 0), ({'BB', 'DD', 'CC', 'JJ', 'HH', 'EE'}, 0)]\n"
     ]
    }
   ],
   "source": [
    "from itertools import combinations\n",
    "\n",
    "def solve(input):\n",
    "  valves = parse(input)\n",
    "  mem = dict()\n",
    "\n",
    "  def f(valve, total_pressure, time_left, open_valves):\n",
    "    key = (valve, total_pressure, time_left, tuple(open_valves))\n",
    "\n",
    "    if key not in mem:\n",
    "      if time_left == 0:\n",
    "        mem[key] = 0, tuple(open_valves)\n",
    "      elif all(valves[valve][0] == 0 or valve in open_valves for valve in valves):\n",
    "        mem[key] = total_pressure * time_left, tuple(open_valves)\n",
    "      else:\n",
    "        result = []\n",
    "        # 1. do nothing\n",
    "        result.append(f(valve, total_pressure, time_left - 1, open_valves))\n",
    "        # 2. open valve\n",
    "        if valves[valve][0] > 0 and valve not in open_valves:\n",
    "          result.append(f(valve, valves[valve][0] + total_pressure, time_left - 1, sorted(open_valves + [valve])))\n",
    "        # 3. move to next valve\n",
    "        for next_valve in valves[valve][1]:\n",
    "          result.append(f(next_valve, total_pressure, time_left - 1, open_valves))\n",
    "        \n",
    "        pressure, open_valves = max(result, key=lambda x: x[0])\n",
    "        mem[key] = pressure + total_pressure, open_valves\n",
    "\n",
    "    return mem[key]\n",
    "  \n",
    "  # fill mem\n",
    "  f('AA', 0, 26, [])\n",
    "\n",
    "  # filter mem\n",
    "  mem = [(set(open_valves), value) for (_, _, time_left, _), (value, open_valves) in mem.items() if time_left == 0]\n",
    "  print(mem)\n",
    "\n",
    "  # interesting_valves = set(valve for valve in valves if valves[valve][0] > 0)\n",
    "\n",
    "  # for length in range(0, len(interesting_valves) + 1):\n",
    "  #   for mine in combinations(interesting_valves, length):\n",
    "  #     mine = set(mine)\n",
    "  #     elephant = interesting_valves - mine\n",
    "      \n",
    "  #     for valves, \n",
    "\n",
    "\n",
    "\n",
    "solve(sample)\n",
    "# assert solve(sample) == 1651\n",
    "# solve(input)"
   ]
  },
  {
   "cell_type": "code",
   "execution_count": 49,
   "metadata": {},
   "outputs": [
    {
     "ename": "KeyboardInterrupt",
     "evalue": "",
     "output_type": "error",
     "traceback": [
      "\u001b[0;31m---------------------------------------------------------------------------\u001b[0m",
      "\u001b[0;31mKeyboardInterrupt\u001b[0m                         Traceback (most recent call last)",
      "Cell \u001b[0;32mIn [49], line 54\u001b[0m\n\u001b[1;32m     50\u001b[0m   \u001b[39mreturn\u001b[39;00m f((\u001b[39m'\u001b[39m\u001b[39mAA\u001b[39m\u001b[39m'\u001b[39m, \u001b[39m'\u001b[39m\u001b[39mAA\u001b[39m\u001b[39m'\u001b[39m), \u001b[39m0\u001b[39m, \u001b[39m26\u001b[39m, [])\n\u001b[1;32m     52\u001b[0m \u001b[39m# solve(sample)\u001b[39;00m\n\u001b[1;32m     53\u001b[0m \u001b[39m# assert solve(sample) == 1707\u001b[39;00m\n\u001b[0;32m---> 54\u001b[0m solve(\u001b[39minput\u001b[39;49m)\n",
      "Cell \u001b[0;32mIn [49], line 50\u001b[0m, in \u001b[0;36msolve\u001b[0;34m(input)\u001b[0m\n\u001b[1;32m     46\u001b[0m     mem[key] \u001b[39m=\u001b[39m \u001b[39mmax\u001b[39m(result) \u001b[39m+\u001b[39m total_pressure\n\u001b[1;32m     48\u001b[0m   \u001b[39mreturn\u001b[39;00m mem[key]\n\u001b[0;32m---> 50\u001b[0m \u001b[39mreturn\u001b[39;00m f((\u001b[39m'\u001b[39;49m\u001b[39mAA\u001b[39;49m\u001b[39m'\u001b[39;49m, \u001b[39m'\u001b[39;49m\u001b[39mAA\u001b[39;49m\u001b[39m'\u001b[39;49m), \u001b[39m0\u001b[39;49m, \u001b[39m26\u001b[39;49m, [])\n",
      "Cell \u001b[0;32mIn [49], line 44\u001b[0m, in \u001b[0;36msolve.<locals>.f\u001b[0;34m(valves, total_pressure, time_left, open_valves)\u001b[0m\n\u001b[1;32m     41\u001b[0m       \u001b[39melif\u001b[39;00m b \u001b[39m!=\u001b[39m \u001b[39m'\u001b[39m\u001b[39mnoop\u001b[39m\u001b[39m'\u001b[39m:\n\u001b[1;32m     42\u001b[0m         new_valves \u001b[39m=\u001b[39m new_valves[\u001b[39m0\u001b[39m], b\n\u001b[0;32m---> 44\u001b[0m       result\u001b[39m.\u001b[39mappend(f(\u001b[39mtuple\u001b[39;49m(\u001b[39msorted\u001b[39;49m(new_valves)), new_total_pressure, time_left \u001b[39m-\u001b[39;49m \u001b[39m1\u001b[39;49m, \u001b[39msorted\u001b[39;49m(new_open_valves)))\n\u001b[1;32m     46\u001b[0m   mem[key] \u001b[39m=\u001b[39m \u001b[39mmax\u001b[39m(result) \u001b[39m+\u001b[39m total_pressure\n\u001b[1;32m     48\u001b[0m \u001b[39mreturn\u001b[39;00m mem[key]\n",
      "Cell \u001b[0;32mIn [49], line 44\u001b[0m, in \u001b[0;36msolve.<locals>.f\u001b[0;34m(valves, total_pressure, time_left, open_valves)\u001b[0m\n\u001b[1;32m     41\u001b[0m       \u001b[39melif\u001b[39;00m b \u001b[39m!=\u001b[39m \u001b[39m'\u001b[39m\u001b[39mnoop\u001b[39m\u001b[39m'\u001b[39m:\n\u001b[1;32m     42\u001b[0m         new_valves \u001b[39m=\u001b[39m new_valves[\u001b[39m0\u001b[39m], b\n\u001b[0;32m---> 44\u001b[0m       result\u001b[39m.\u001b[39mappend(f(\u001b[39mtuple\u001b[39;49m(\u001b[39msorted\u001b[39;49m(new_valves)), new_total_pressure, time_left \u001b[39m-\u001b[39;49m \u001b[39m1\u001b[39;49m, \u001b[39msorted\u001b[39;49m(new_open_valves)))\n\u001b[1;32m     46\u001b[0m   mem[key] \u001b[39m=\u001b[39m \u001b[39mmax\u001b[39m(result) \u001b[39m+\u001b[39m total_pressure\n\u001b[1;32m     48\u001b[0m \u001b[39mreturn\u001b[39;00m mem[key]\n",
      "    \u001b[0;31m[... skipping similar frames: solve.<locals>.f at line 44 (17 times)]\u001b[0m\n",
      "Cell \u001b[0;32mIn [49], line 44\u001b[0m, in \u001b[0;36msolve.<locals>.f\u001b[0;34m(valves, total_pressure, time_left, open_valves)\u001b[0m\n\u001b[1;32m     41\u001b[0m       \u001b[39melif\u001b[39;00m b \u001b[39m!=\u001b[39m \u001b[39m'\u001b[39m\u001b[39mnoop\u001b[39m\u001b[39m'\u001b[39m:\n\u001b[1;32m     42\u001b[0m         new_valves \u001b[39m=\u001b[39m new_valves[\u001b[39m0\u001b[39m], b\n\u001b[0;32m---> 44\u001b[0m       result\u001b[39m.\u001b[39mappend(f(\u001b[39mtuple\u001b[39;49m(\u001b[39msorted\u001b[39;49m(new_valves)), new_total_pressure, time_left \u001b[39m-\u001b[39;49m \u001b[39m1\u001b[39;49m, \u001b[39msorted\u001b[39;49m(new_open_valves)))\n\u001b[1;32m     46\u001b[0m   mem[key] \u001b[39m=\u001b[39m \u001b[39mmax\u001b[39m(result) \u001b[39m+\u001b[39m total_pressure\n\u001b[1;32m     48\u001b[0m \u001b[39mreturn\u001b[39;00m mem[key]\n",
      "Cell \u001b[0;32mIn [49], line 23\u001b[0m, in \u001b[0;36msolve.<locals>.f\u001b[0;34m(valves, total_pressure, time_left, open_valves)\u001b[0m\n\u001b[1;32m     20\u001b[0m result \u001b[39m=\u001b[39m []\n\u001b[1;32m     22\u001b[0m \u001b[39mfor\u001b[39;00m a \u001b[39min\u001b[39;00m moves(valves[\u001b[39m0\u001b[39m], open_valves):\n\u001b[0;32m---> 23\u001b[0m   \u001b[39mfor\u001b[39;00m b \u001b[39min\u001b[39;00m moves(valves[\u001b[39m1\u001b[39m], open_valves):\n\u001b[1;32m     24\u001b[0m     new_valves \u001b[39m=\u001b[39m valves\n\u001b[1;32m     25\u001b[0m     new_total_pressure \u001b[39m=\u001b[39m total_pressure\n",
      "\u001b[0;31mKeyboardInterrupt\u001b[0m: "
     ]
    }
   ],
   "source": [
    "def solve(input):\n",
    "  tunnels = parse(input)\n",
    "  mem = dict()\n",
    "\n",
    "  def moves(valve, open_valves):\n",
    "    yield 'noop'\n",
    "    if tunnels[valve][0] > 0 and valve not in open_valves:\n",
    "      yield 'open'\n",
    "    yield from tunnels[valve][1]\n",
    "\n",
    "  def f(valves, total_pressure, time_left, open_valves):\n",
    "    if time_left == 0:\n",
    "      return 0\n",
    "    elif all(tunnels[valve][0] == 0 or valve in open_valves for valve in tunnels):\n",
    "      return total_pressure * time_left\n",
    "\n",
    "    key = (valves, total_pressure, time_left, tuple(open_valves))\n",
    "\n",
    "    if key not in mem:\n",
    "      result = []\n",
    "\n",
    "      for a in moves(valves[0], open_valves):\n",
    "        for b in moves(valves[1], open_valves):\n",
    "          new_valves = valves\n",
    "          new_total_pressure = total_pressure\n",
    "          new_open_valves = open_valves\n",
    "\n",
    "          if a == 'open':\n",
    "            if valves[0] in new_open_valves:\n",
    "              continue\n",
    "            new_total_pressure += tunnels[valves[0]][0]\n",
    "            new_open_valves = new_open_valves + [valves[0]]\n",
    "          elif a != 'noop':\n",
    "            new_valves = a, new_valves[1]\n",
    "          \n",
    "          if b == 'open':\n",
    "            if valves[1] in new_open_valves:\n",
    "              continue\n",
    "            new_total_pressure += tunnels[valves[1]][0]\n",
    "            new_open_valves = new_open_valves + [valves[1]]\n",
    "          elif b != 'noop':\n",
    "            new_valves = new_valves[0], b\n",
    "          \n",
    "          result.append(f(tuple(sorted(new_valves)), new_total_pressure, time_left - 1, sorted(new_open_valves)))\n",
    "\n",
    "      mem[key] = max(result) + total_pressure\n",
    "\n",
    "    return mem[key]\n",
    "  \n",
    "  return f(('AA', 'AA'), 0, 26, [])\n",
    "\n",
    "# solve(sample)\n",
    "# assert solve(sample) == 1707\n",
    "solve(input)"
   ]
  }
 ],
 "metadata": {
  "kernelspec": {
   "display_name": "Python 3.9.15 ('base')",
   "language": "python",
   "name": "python3"
  },
  "language_info": {
   "codemirror_mode": {
    "name": "ipython",
    "version": 3
   },
   "file_extension": ".py",
   "mimetype": "text/x-python",
   "name": "python",
   "nbconvert_exporter": "python",
   "pygments_lexer": "ipython3",
   "version": "3.9.15"
  },
  "orig_nbformat": 4,
  "vscode": {
   "interpreter": {
    "hash": "d4d1e4263499bec80672ea0156c357c1ee493ec2b1c70f0acce89fc37c4a6abe"
   }
  }
 },
 "nbformat": 4,
 "nbformat_minor": 2
}
