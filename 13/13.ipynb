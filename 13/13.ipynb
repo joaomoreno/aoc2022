{
 "cells": [
  {
   "attachments": {},
   "cell_type": "markdown",
   "metadata": {},
   "source": [
    "Input"
   ]
  },
  {
   "cell_type": "code",
   "execution_count": 1,
   "metadata": {},
   "outputs": [],
   "source": [
    "from pathlib import Path \n",
    "sample = Path('sample').read_text()\n",
    "input = Path('input').read_text()"
   ]
  },
  {
   "attachments": {},
   "cell_type": "markdown",
   "metadata": {},
   "source": [
    "Parsing"
   ]
  },
  {
   "cell_type": "code",
   "execution_count": 22,
   "metadata": {},
   "outputs": [
    {
     "data": {
      "text/plain": [
       "[([1, 1, 3, 1, 1], [1, 1, 5, 1, 1]),\n",
       " ([[1], [2, 3, 4]], [[1], 4]),\n",
       " ([9], [[8, 7, 6]]),\n",
       " ([[4, 4], 4, 4], [[4, 4], 4, 4, 4]),\n",
       " ([7, 7, 7, 7], [7, 7, 7]),\n",
       " ([], [3]),\n",
       " ([[[]]], [[]]),\n",
       " ([1, [2, [3, [4, [5, 6, 7]]]], 8, 9], [1, [2, [3, [4, [5, 6, 0]]]], 8, 9])]"
      ]
     },
     "execution_count": 22,
     "metadata": {},
     "output_type": "execute_result"
    }
   ],
   "source": [
    "def _parse(input):\n",
    "  it = iter(input.splitlines(False))\n",
    "  while a := next(it, None):\n",
    "    b = next(it)\n",
    "    yield eval(a), eval(b)\n",
    "    next(it, None)\n",
    "\n",
    "def parse(input):\n",
    "  return list(_parse(input))\n",
    "\n",
    "parse(sample)"
   ]
  },
  {
   "attachments": {},
   "cell_type": "markdown",
   "metadata": {},
   "source": [
    "Solution"
   ]
  },
  {
   "cell_type": "code",
   "execution_count": 30,
   "metadata": {},
   "outputs": [
    {
     "data": {
      "text/plain": [
       "5580"
      ]
     },
     "execution_count": 30,
     "metadata": {},
     "output_type": "execute_result"
    }
   ],
   "source": [
    "def compare(a, b):\n",
    "  if isinstance(a, int) and isinstance(b, int):\n",
    "    return 0 if a == b else -1 if a < b else 1\n",
    "  elif isinstance(a, list) and isinstance(b, list):\n",
    "    for i in range(len(a)):\n",
    "      if i >= len(b):\n",
    "        return 1\n",
    "      if (c := compare(a[i], b[i])) != 0:\n",
    "        return c\n",
    "    return -1 if len(a) < len(b) else 0\n",
    "  else:\n",
    "    return compare([a], b) if isinstance(a, int) else compare(a, [b])\n",
    "\n",
    "def solve(input):\n",
    "  pairs = parse(input)\n",
    "  return sum((i + 1) if compare(*pairs[i]) < 0 else 0 for i in range(len(pairs)))\n",
    "\n",
    "assert solve(sample) == 13\n",
    "solve(input)"
   ]
  },
  {
   "cell_type": "code",
   "execution_count": 43,
   "metadata": {},
   "outputs": [
    {
     "data": {
      "text/plain": [
       "26200"
      ]
     },
     "execution_count": 43,
     "metadata": {},
     "output_type": "execute_result"
    }
   ],
   "source": [
    "from functools import cmp_to_key\n",
    "\n",
    "def solve(input):\n",
    "  pairs = parse(input)\n",
    "  packets = [packet for pair in pairs for packet in pair]\n",
    "  packets += [[[2]], [[6]]]\n",
    "  packets.sort(key=cmp_to_key(compare))\n",
    "  \n",
    "  result = 1\n",
    "  for i in range(len(packets)):\n",
    "    if packets[i] == [[2]] or packets[i] == [[6]]:\n",
    "      result *= i + 1\n",
    "  return result\n",
    "\n",
    "assert solve(sample) == 140\n",
    "solve(input)"
   ]
  }
 ],
 "metadata": {
  "kernelspec": {
   "display_name": "Python 3.9.15 ('base')",
   "language": "python",
   "name": "python3"
  },
  "language_info": {
   "codemirror_mode": {
    "name": "ipython",
    "version": 3
   },
   "file_extension": ".py",
   "mimetype": "text/x-python",
   "name": "python",
   "nbconvert_exporter": "python",
   "pygments_lexer": "ipython3",
   "version": "3.9.15"
  },
  "orig_nbformat": 4,
  "vscode": {
   "interpreter": {
    "hash": "d4d1e4263499bec80672ea0156c357c1ee493ec2b1c70f0acce89fc37c4a6abe"
   }
  }
 },
 "nbformat": 4,
 "nbformat_minor": 2
}
